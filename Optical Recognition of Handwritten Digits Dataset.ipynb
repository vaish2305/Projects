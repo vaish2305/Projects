{
 "cells": [
  {
   "cell_type": "code",
   "execution_count": 1,
   "id": "8158ba10",
   "metadata": {},
   "outputs": [],
   "source": [
    "# For better display dividing the outputs\n",
    "br=\"\\n----------------------------------------------------------------------------------------------------------------\\n\""
   ]
  },
  {
   "cell_type": "markdown",
   "id": "5fd5dd6b",
   "metadata": {},
   "source": [
    "Import all necessary libraries."
   ]
  },
  {
   "cell_type": "code",
   "execution_count": 3,
   "id": "8f5decf7",
   "metadata": {},
   "outputs": [],
   "source": [
    "import matplotlib.pyplot as plt\n",
    "import pandas as pd\n",
    "import numpy as np\n",
    "from sklearn import datasets, svm, metrics\n",
    "from sklearn.metrics import confusion_matrix, ConfusionMatrixDisplay\n",
    "from sklearn.neighbors import KNeighborsClassifier\n",
    "from sklearn.naive_bayes import GaussianNB\n",
    "from sklearn.model_selection import train_test_split"
   ]
  },
  {
   "cell_type": "markdown",
   "id": "8f8cd669",
   "metadata": {},
   "source": [
    "Load the data and divide it into train/test data."
   ]
  },
  {
   "cell_type": "code",
   "execution_count": 4,
   "id": "a21641e1",
   "metadata": {},
   "outputs": [],
   "source": [
    "# Load dataset called load_digits from sklearn datasets.\n",
    "digits = datasets.load_digits()"
   ]
  },
  {
   "cell_type": "code",
   "execution_count": 5,
   "id": "99f52ebc",
   "metadata": {},
   "outputs": [
    {
     "name": "stdout",
     "output_type": "stream",
     "text": [
      "dict_keys(['data', 'target', 'frame', 'feature_names', 'target_names', 'images', 'DESCR'])\n"
     ]
    }
   ],
   "source": [
    "# Show the keys of the dataset.\n",
    "print(digits.keys())"
   ]
  },
  {
   "cell_type": "code",
   "execution_count": 6,
   "id": "f280539c",
   "metadata": {},
   "outputs": [
    {
     "data": {
      "text/plain": [
       "array([[ 0.,  0.,  5., 13.,  9.,  1.,  0.,  0.],\n",
       "       [ 0.,  0., 13., 15., 10., 15.,  5.,  0.],\n",
       "       [ 0.,  3., 15.,  2.,  0., 11.,  8.,  0.],\n",
       "       [ 0.,  4., 12.,  0.,  0.,  8.,  8.,  0.],\n",
       "       [ 0.,  5.,  8.,  0.,  0.,  9.,  8.,  0.],\n",
       "       [ 0.,  4., 11.,  0.,  1., 12.,  7.,  0.],\n",
       "       [ 0.,  2., 14.,  5., 10., 12.,  0.,  0.],\n",
       "       [ 0.,  0.,  6., 13., 10.,  0.,  0.,  0.]])"
      ]
     },
     "execution_count": 6,
     "metadata": {},
     "output_type": "execute_result"
    }
   ],
   "source": [
    "digits.images[0]"
   ]
  },
  {
   "cell_type": "code",
   "execution_count": 7,
   "id": "c72a3de2",
   "metadata": {},
   "outputs": [
    {
     "data": {
      "text/plain": [
       "array([[ 0.,  0.,  0., 12., 13.,  5.,  0.,  0.],\n",
       "       [ 0.,  0.,  0., 11., 16.,  9.,  0.,  0.],\n",
       "       [ 0.,  0.,  3., 15., 16.,  6.,  0.,  0.],\n",
       "       [ 0.,  7., 15., 16., 16.,  2.,  0.,  0.],\n",
       "       [ 0.,  0.,  1., 16., 16.,  3.,  0.,  0.],\n",
       "       [ 0.,  0.,  1., 16., 16.,  6.,  0.,  0.],\n",
       "       [ 0.,  0.,  1., 16., 16.,  6.,  0.,  0.],\n",
       "       [ 0.,  0.,  0., 11., 16., 10.,  0.,  0.]])"
      ]
     },
     "execution_count": 7,
     "metadata": {},
     "output_type": "execute_result"
    }
   ],
   "source": [
    "digits.images[1]"
   ]
  },
  {
   "cell_type": "code",
   "execution_count": 5,
   "id": "fe1b4ce1",
   "metadata": {},
   "outputs": [
    {
     "name": "stdout",
     "output_type": "stream",
     "text": [
      "(1797, 8, 8)\n",
      "(1797, 64)\n"
     ]
    }
   ],
   "source": [
    "# Display the shape of images and data.\n",
    "print(digits.images.shape)\n",
    "print(digits.data.shape)"
   ]
  },
  {
   "cell_type": "code",
   "execution_count": 6,
   "id": "041a5c4c",
   "metadata": {},
   "outputs": [
    {
     "data": {
      "image/png": "[encoded data removed]",
      "text/plain": [
       "<Figure size 432x288 with 1 Axes>"
      ]
     },
     "metadata": {
      "needs_background": "light"
     },
     "output_type": "display_data"
    },
    {
     "data": {
      "image/png": "[encoded data removed]",
      "text/plain": [
       "<Figure size 432x288 with 1 Axes>"
      ]
     },
     "metadata": {
      "needs_background": "light"
     },
     "output_type": "display_data"
    },
    {
     "data": {
      "image/png": "[encoded data removed]",
      "text/plain": [
       "<Figure size 432x288 with 1 Axes>"
      ]
     },
     "metadata": {
      "needs_background": "light"
     },
     "output_type": "display_data"
    },
    {
     "data": {
      "image/png": "[encoded data removed]",
      "text/plain": [
       "<Figure size 432x288 with 1 Axes>"
      ]
     },
     "metadata": {
      "needs_background": "light"
     },
     "output_type": "display_data"
    },
    {
     "data": {
      "image/png": "[encoded data removed]",
      "text/plain": [
       "<Figure size 432x288 with 1 Axes>"
      ]
     },
     "metadata": {
      "needs_background": "light"
     },
     "output_type": "display_data"
    }
   ],
   "source": [
    "# Display some images.\n",
    "for i in range(0,5):\n",
    "    plt.imshow(digits.images[i], cmap=plt.cm.gray_r, interpolation='nearest')\n",
    "    plt.show()"
   ]
  },
  {
   "cell_type": "code",
   "execution_count": 7,
   "id": "d0dc9bad",
   "metadata": {},
   "outputs": [],
   "source": [
    "# Create feature and target arrays.\n",
    "X = digits.data\n",
    "Y = digits.target"
   ]
  },
  {
   "cell_type": "code",
   "execution_count": 8,
   "id": "4078e6ab",
   "metadata": {},
   "outputs": [],
   "source": [
    "# Split data into train and test.\n",
    "X_train, X_test, Y_train, Y_test = train_test_split(X, Y, test_size = 0.2, random_state=42, stratify=Y)"
   ]
  },
  {
   "cell_type": "markdown",
   "id": "68a62f11",
   "metadata": {},
   "source": [
    "K-Nearest Neighbor Classifier with nearest neighbors = 7."
   ]
  },
  {
   "cell_type": "code",
   "execution_count": 9,
   "id": "7d3e7b0a",
   "metadata": {},
   "outputs": [
    {
     "name": "stdout",
     "output_type": "stream",
     "text": [
      "\n",
      "----------------------------------------- K-Nearest Neighbor Algorithm -----------------------------------------\n",
      "\n",
      "Classification Report:\n",
      "\n",
      "               precision    recall  f1-score   support\n",
      "\n",
      "           0       1.00      1.00      1.00        36\n",
      "           1       0.95      1.00      0.97        36\n",
      "           2       1.00      1.00      1.00        35\n",
      "           3       1.00      1.00      1.00        37\n",
      "           4       0.97      1.00      0.99        36\n",
      "           5       1.00      1.00      1.00        37\n",
      "           6       1.00      0.97      0.99        36\n",
      "           7       0.97      1.00      0.99        36\n",
      "           8       0.94      0.91      0.93        35\n",
      "           9       1.00      0.94      0.97        36\n",
      "\n",
      "    accuracy                           0.98       360\n",
      "   macro avg       0.98      0.98      0.98       360\n",
      "weighted avg       0.98      0.98      0.98       360\n",
      "\n",
      "\n",
      "----------------------------------------------------------------------------------------------------------------\n",
      "\n",
      "Accuracy with 7 as no. of nearest neighbors:  0.9833333333333333\n",
      "\n",
      "----------------------------------------------------------------------------------------------------------------\n",
      "\n",
      "Confusion Matrix:\n",
      "\n",
      " <sklearn.metrics._plot.confusion_matrix.ConfusionMatrixDisplay object at 0x0000025B83509040>\n"
     ]
    },
    {
     "data": {
      "image/png": "[encoded data removed]",
      "text/plain": [
       "<Figure size 432x288 with 2 Axes>"
      ]
     },
     "metadata": {
      "needs_background": "light"
     },
     "output_type": "display_data"
    }
   ],
   "source": [
    "# KNN Classifier with 7 nearest neighbors.\n",
    "knn = KNeighborsClassifier(n_neighbors=7)\n",
    "\n",
    "# Train with train data, and train target: X_train, and y_train.\n",
    "knn.fit(X_train,Y_train)\n",
    "\n",
    "# Test with test data(X_test).\n",
    "p=knn.predict(X_test)\n",
    "\n",
    "print(\"\\n----------------------------------------- K-Nearest Neighbor Algorithm -----------------------------------------\\n\")\n",
    "\n",
    "# Display the report by comparing the predicted output with test target data(y_test).\n",
    "print(\"Classification Report:\\n\\n\",metrics.classification_report(Y_test,p))\n",
    "\n",
    "print(br)\n",
    "\n",
    "# print score/accuracy.\n",
    "print(\"Accuracy with 7 as no. of nearest neighbors: \",knn.score(X_test, Y_test))\n",
    "\n",
    "print(br)\n",
    "\n",
    "# Dispaly Confusion Matrix.\n",
    "d=confusion_matrix(Y_test, p)\n",
    "print(\"Confusion Matrix:\\n\\n\",ConfusionMatrixDisplay(d).plot())\n"
   ]
  },
  {
   "cell_type": "markdown",
   "id": "7209094d",
   "metadata": {},
   "source": [
    "K-Nearest Neighbor Classifier with nearest neighbors = 8."
   ]
  },
  {
   "cell_type": "code",
   "execution_count": 10,
   "id": "0deb238c",
   "metadata": {},
   "outputs": [
    {
     "name": "stdout",
     "output_type": "stream",
     "text": [
      "Classification Report:\n",
      "\n",
      "               precision    recall  f1-score   support\n",
      "\n",
      "           0       1.00      1.00      1.00        36\n",
      "           1       0.88      1.00      0.94        36\n",
      "           2       1.00      1.00      1.00        35\n",
      "           3       1.00      1.00      1.00        37\n",
      "           4       0.97      1.00      0.99        36\n",
      "           5       1.00      1.00      1.00        37\n",
      "           6       1.00      0.97      0.99        36\n",
      "           7       0.97      1.00      0.99        36\n",
      "           8       0.97      0.86      0.91        35\n",
      "           9       1.00      0.94      0.97        36\n",
      "\n",
      "    accuracy                           0.98       360\n",
      "   macro avg       0.98      0.98      0.98       360\n",
      "weighted avg       0.98      0.98      0.98       360\n",
      "\n",
      "\n",
      "----------------------------------------------------------------------------------------------------------------\n",
      "\n",
      "Accuracy with 8 as no. of nearest neighbors:  0.9777777777777777\n",
      "\n",
      "----------------------------------------------------------------------------------------------------------------\n",
      "\n",
      "Confusion Matrix:\n",
      "\n",
      " <sklearn.metrics._plot.confusion_matrix.ConfusionMatrixDisplay object at 0x0000025B83E383A0>\n"
     ]
    },
    {
     "data": {
      "image/png": "[encoded data removed]",
      "text/plain": [
       "<Figure size 432x288 with 2 Axes>"
      ]
     },
     "metadata": {
      "needs_background": "light"
     },
     "output_type": "display_data"
    }
   ],
   "source": [
    "# KNN Classifier with 8 nearest neighbors.\n",
    "knn8 = KNeighborsClassifier(n_neighbors=8)\n",
    "knn8.fit(X_train,Y_train)\n",
    "p8=knn8.predict(X_test)\n",
    "\n",
    "print(\"Classification Report:\\n\\n\",metrics.classification_report(Y_test,p8))\n",
    "\n",
    "print(br)\n",
    "\n",
    "print(\"Accuracy with 8 as no. of nearest neighbors: \",knn8.score(X_test, Y_test))\n",
    "\n",
    "print(br)\n",
    "\n",
    "d8=confusion_matrix(Y_test, p8)\n",
    "print(\"Confusion Matrix:\\n\\n\",ConfusionMatrixDisplay(d8).plot())"
   ]
  },
  {
   "cell_type": "markdown",
   "id": "ae7f0895",
   "metadata": {},
   "source": [
    "K-Nearest Neighbor Classifier with nearest neighbors = 9."
   ]
  },
  {
   "cell_type": "code",
   "execution_count": 11,
   "id": "89655307",
   "metadata": {},
   "outputs": [
    {
     "name": "stdout",
     "output_type": "stream",
     "text": [
      "Classification Report:\n",
      "\n",
      "               precision    recall  f1-score   support\n",
      "\n",
      "           0       1.00      1.00      1.00        36\n",
      "           1       0.88      1.00      0.94        36\n",
      "           2       1.00      1.00      1.00        35\n",
      "           3       1.00      1.00      1.00        37\n",
      "           4       0.97      1.00      0.99        36\n",
      "           5       1.00      1.00      1.00        37\n",
      "           6       1.00      0.97      0.99        36\n",
      "           7       0.97      1.00      0.99        36\n",
      "           8       1.00      0.86      0.92        35\n",
      "           9       1.00      0.97      0.99        36\n",
      "\n",
      "    accuracy                           0.98       360\n",
      "   macro avg       0.98      0.98      0.98       360\n",
      "weighted avg       0.98      0.98      0.98       360\n",
      "\n",
      "\n",
      "----------------------------------------------------------------------------------------------------------------\n",
      "\n",
      "Accuracy with 9 as no. of nearest neighbors:  0.9777777777777777\n",
      "\n",
      "----------------------------------------------------------------------------------------------------------------\n",
      "\n",
      "Confusion Matrix:\n",
      "\n",
      " <sklearn.metrics._plot.confusion_matrix.ConfusionMatrixDisplay object at 0x0000025B83FF0CA0>\n"
     ]
    },
    {
     "data": {
      "image/png": "[encoded data removed]",
      "text/plain": [
       "<Figure size 432x288 with 2 Axes>"
      ]
     },
     "metadata": {
      "needs_background": "light"
     },
     "output_type": "display_data"
    }
   ],
   "source": [
    "# KNN Classifier with 9 nearest neighbors.\n",
    "knn9 = KNeighborsClassifier(n_neighbors=9)\n",
    "knn9.fit(X_train,Y_train)\n",
    "p9=knn9.predict(X_test)\n",
    "\n",
    "print(\"Classification Report:\\n\\n\",metrics.classification_report(Y_test, p9))\n",
    "\n",
    "print(br)\n",
    "\n",
    "print(\"Accuracy with 9 as no. of nearest neighbors: \",knn8.score(X_test, Y_test))\n",
    "\n",
    "print(br)\n",
    "\n",
    "d9=confusion_matrix(Y_test, p9)\n",
    "print(\"Confusion Matrix:\\n\\n\",ConfusionMatrixDisplay(d9).plot())"
   ]
  },
  {
   "cell_type": "markdown",
   "id": "b718b069",
   "metadata": {},
   "source": [
    "Support Vector Machine Classifier."
   ]
  },
  {
   "cell_type": "code",
   "execution_count": 12,
   "id": "99daf8ca",
   "metadata": {},
   "outputs": [
    {
     "name": "stdout",
     "output_type": "stream",
     "text": [
      "\n",
      "-----------------------------------------         SVM Algorithm        -----------------------------------------\n",
      "\n",
      "Classification Report:\n",
      "\n",
      "               precision    recall  f1-score   support\n",
      "\n",
      "           0       1.00      1.00      1.00        36\n",
      "           1       0.95      1.00      0.97        36\n",
      "           2       1.00      1.00      1.00        35\n",
      "           3       1.00      1.00      1.00        37\n",
      "           4       1.00      1.00      1.00        36\n",
      "           5       1.00      1.00      1.00        37\n",
      "           6       1.00      0.97      0.99        36\n",
      "           7       0.97      1.00      0.99        36\n",
      "           8       0.97      0.94      0.96        35\n",
      "           9       1.00      0.97      0.99        36\n",
      "\n",
      "    accuracy                           0.99       360\n",
      "   macro avg       0.99      0.99      0.99       360\n",
      "weighted avg       0.99      0.99      0.99       360\n",
      "\n",
      "\n",
      "----------------------------------------------------------------------------------------------------------------\n",
      "\n",
      "Accuracy/score using SVM Algorithm:  0.9888888888888889\n",
      "\n",
      "----------------------------------------------------------------------------------------------------------------\n",
      "\n",
      "Confusion Matrix:\n",
      "\n",
      " <sklearn.metrics._plot.confusion_matrix.ConfusionMatrixDisplay object at 0x0000025B8361CD00>\n"
     ]
    },
    {
     "data": {
      "image/png": "[encoded data removed]",
      "text/plain": [
       "<Figure size 432x288 with 2 Axes>"
      ]
     },
     "metadata": {
      "needs_background": "light"
     },
     "output_type": "display_data"
    }
   ],
   "source": [
    "# Create a support vector classifier\n",
    "svma = svm.SVC(gamma=0.001)\n",
    "\n",
    "# Train with data, and target.\n",
    "svma.fit(X_train, Y_train)\n",
    "\n",
    "# Test with test data(X_test).\n",
    "svmPredict = svma.predict(X_test)\n",
    "\n",
    "print(\"\\n-----------------------------------------         SVM Algorithm        -----------------------------------------\\n\")\n",
    "\n",
    "# Display the report by comparing the predicted output with test target data(y_test).\n",
    "print(\"Classification Report:\\n\\n\",metrics.classification_report(Y_test,svmPredict))\n",
    "\n",
    "print(br)\n",
    "\n",
    "# print score/accuracy.\n",
    "print(\"Accuracy/score using SVM Algorithm: \",svma.score(X_test, Y_test))\n",
    "\n",
    "print(br)\n",
    "\n",
    "# Dispaly Confusion Matrix.\n",
    "dsvm=confusion_matrix(Y_test, svmPredict)\n",
    "print(\"Confusion Matrix:\\n\\n\",ConfusionMatrixDisplay(dsvm).plot())"
   ]
  },
  {
   "cell_type": "markdown",
   "id": "e896b4c7",
   "metadata": {},
   "source": [
    "Naive Bayes Classifier."
   ]
  },
  {
   "cell_type": "code",
   "execution_count": 13,
   "id": "b766fedb",
   "metadata": {},
   "outputs": [
    {
     "name": "stdout",
     "output_type": "stream",
     "text": [
      "\n",
      "-----------------------------------------    Naive Bayes Classifier    -----------------------------------------\n",
      "\n",
      "Classification Report:\n",
      "\n",
      "               precision    recall  f1-score   support\n",
      "\n",
      "           0       1.00      0.92      0.96        36\n",
      "           1       0.69      0.81      0.74        36\n",
      "           2       0.83      0.54      0.66        35\n",
      "           3       1.00      0.70      0.83        37\n",
      "           4       0.96      0.72      0.83        36\n",
      "           5       0.95      0.95      0.95        37\n",
      "           6       0.95      0.97      0.96        36\n",
      "           7       0.73      0.97      0.83        36\n",
      "           8       0.50      0.83      0.62        35\n",
      "           9       0.86      0.69      0.77        36\n",
      "\n",
      "    accuracy                           0.81       360\n",
      "   macro avg       0.85      0.81      0.81       360\n",
      "weighted avg       0.85      0.81      0.82       360\n",
      "\n",
      "\n",
      "----------------------------------------------------------------------------------------------------------------\n",
      "\n",
      "Score:\n",
      " 0.8111111111111111\n",
      "\n",
      "----------------------------------------------------------------------------------------------------------------\n",
      "\n",
      "Confusion Matrix:\n",
      "\n",
      " <sklearn.metrics._plot.confusion_matrix.ConfusionMatrixDisplay object at 0x0000025B835A72B0>\n"
     ]
    },
    {
     "data": {
      "image/png": "[encoded data removed]",
      "text/plain": [
       "<Figure size 432x288 with 2 Axes>"
      ]
     },
     "metadata": {
      "needs_background": "light"
     },
     "output_type": "display_data"
    }
   ],
   "source": [
    "# Create a Gaussian Naive Bayes classifier.\n",
    "nb = GaussianNB()\n",
    " \n",
    "# Train with data, and target.\n",
    "nb.fit(X_train , Y_train)\n",
    "\n",
    "# Test with test data(X_test).\n",
    "nbpredict = nb.predict(X_test)\n",
    "\n",
    "print(\"\\n-----------------------------------------    Naive Bayes Classifier    -----------------------------------------\\n\")\n",
    "\n",
    "# Display the report by comparing the predicted output with test target data(y_test).\n",
    "print(\"Classification Report:\\n\\n\",metrics.classification_report(Y_test,nbpredict))\n",
    "\n",
    "print(br)\n",
    "\n",
    "print(\"Score:\\n\",nb.score(X_test, Y_test))\n",
    "\n",
    "print(br)\n",
    "\n",
    "# Dispaly Confusion Matrix.\n",
    "dnb=confusion_matrix(Y_test, nbpredict)\n",
    "print(\"Confusion Matrix:\\n\\n\",ConfusionMatrixDisplay(dnb).plot())"
   ]
  },
  {
   "cell_type": "code",
   "execution_count": null,
   "id": "95f6b7ad",
   "metadata": {},
   "outputs": [],
   "source": []
  }
 ],
 "metadata": {
  "kernelspec": {
   "display_name": "Python 3 (ipykernel)",
   "language": "python",
   "name": "python3"
  },
  "language_info": {
   "codemirror_mode": {
    "name": "ipython",
    "version": 3
   },
   "file_extension": ".py",
   "mimetype": "text/x-python",
   "name": "python",
   "nbconvert_exporter": "python",
   "pygments_lexer": "ipython3",
   "version": "3.9.7"
  }
 },
 "nbformat": 4,
 "nbformat_minor": 5
}
