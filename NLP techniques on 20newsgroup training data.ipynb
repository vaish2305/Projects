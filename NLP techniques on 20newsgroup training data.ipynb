{
 "cells": [
  {
   "cell_type": "markdown",
   "id": "05f48a9d",
   "metadata": {},
   "source": [
    "## Importing the 20newsgroup training data and Other Libraries\n"
   ]
  },
  {
   "cell_type": "code",
   "execution_count": 4,
   "id": "a44807de",
   "metadata": {},
   "outputs": [],
   "source": [
    "from sklearn.datasets import fetch_20newsgroups\n",
    "\n",
    "from sklearn.feature_extraction.text import CountVectorizer, TfidfVectorizer\n",
    "from sklearn.feature_extraction.text import TfidfTransformer\n",
    "from sklearn import metrics\n",
    "from sklearn.pipeline import Pipeline\n",
    "from sklearn.naive_bayes import MultinomialNB"
   ]
  },
  {
   "cell_type": "code",
   "execution_count": 5,
   "id": "1ad70575",
   "metadata": {},
   "outputs": [],
   "source": [
    "twenty_train = fetch_20newsgroups(subset='train', shuffle=True)"
   ]
  },
  {
   "cell_type": "code",
   "execution_count": 6,
   "id": "b4393d86",
   "metadata": {},
   "outputs": [
    {
     "name": "stdout",
     "output_type": "stream",
     "text": [
      "['alt.atheism',\n",
      " 'comp.graphics',\n",
      " 'comp.os.ms-windows.misc',\n",
      " 'comp.sys.ibm.pc.hardware',\n",
      " 'comp.sys.mac.hardware',\n",
      " 'comp.windows.x',\n",
      " 'misc.forsale',\n",
      " 'rec.autos',\n",
      " 'rec.motorcycles',\n",
      " 'rec.sport.baseball',\n",
      " 'rec.sport.hockey',\n",
      " 'sci.crypt',\n",
      " 'sci.electronics',\n",
      " 'sci.med',\n",
      " 'sci.space',\n",
      " 'soc.religion.christian',\n",
      " 'talk.politics.guns',\n",
      " 'talk.politics.mideast',\n",
      " 'talk.politics.misc',\n",
      " 'talk.religion.misc']\n"
     ]
    }
   ],
   "source": [
    "#Printing all the categories \n",
    "\n",
    "from pprint import pprint\n",
    "pprint(list(twenty_train.target_names))"
   ]
  },
  {
   "cell_type": "markdown",
   "id": "441965c5",
   "metadata": {},
   "source": [
    "## Extracting features from text files\n",
    "#### In order to perform machine learning on text documents, need to turn the text into numerical feature vectors."
   ]
  },
  {
   "cell_type": "markdown",
   "id": "e6c209e1",
   "metadata": {},
   "source": [
    "### Tokenizing Text wit Scikit - Learn"
   ]
  },
  {
   "cell_type": "code",
   "execution_count": 7,
   "id": "31273c98",
   "metadata": {},
   "outputs": [
    {
     "data": {
      "text/plain": [
       "(11314, 130107)"
      ]
     },
     "execution_count": 7,
     "metadata": {},
     "output_type": "execute_result"
    }
   ],
   "source": [
    "#CountVectorizer: It includes Tokenizing and filtering of stopwords\n",
    "#Builds a dictionary of features and transforms documents to feature vectors\n",
    "\n",
    "from sklearn.feature_extraction.text import CountVectorizer\n",
    "count_vect = CountVectorizer()\n",
    "X_train_counts = count_vect.fit_transform(twenty_train.data)\n",
    "X_train_counts.shape"
   ]
  },
  {
   "cell_type": "markdown",
   "id": "0c75f026",
   "metadata": {},
   "source": [
    "### TF-IDF Vectors"
   ]
  },
  {
   "cell_type": "code",
   "execution_count": 8,
   "id": "62f8d645",
   "metadata": {},
   "outputs": [
    {
     "data": {
      "text/plain": [
       "(11314, 130107)"
      ]
     },
     "execution_count": 8,
     "metadata": {},
     "output_type": "execute_result"
    }
   ],
   "source": [
    "#TfidfTransformer(): Computes both Term frequency and Inverse document frequency\n",
    "#fit() method to fit estimator to the data and transform() method to transform count-matrix to a tf-idf representation\n",
    "\n",
    "tfidf_transformer = TfidfTransformer()\n",
    "X_train_tfidf = tfidf_transformer.fit_transform(X_train_counts)\n",
    "X_train_tfidf.shape"
   ]
  },
  {
   "cell_type": "code",
   "execution_count": 9,
   "id": "04db5f06",
   "metadata": {},
   "outputs": [
    {
     "data": {
      "text/plain": [
       "(11314, 130107)"
      ]
     },
     "execution_count": 9,
     "metadata": {},
     "output_type": "execute_result"
    }
   ],
   "source": [
    "#Transforming text to feature vectors that can be used as input to estimator using TfidfVectorizer()\n",
    "\n",
    "vectorizer = TfidfVectorizer()\n",
    "vectors = vectorizer.fit_transform(twenty_train.data)\n",
    "vectors.shape"
   ]
  },
  {
   "cell_type": "markdown",
   "id": "b3ed0499",
   "metadata": {},
   "source": [
    "###  Training a Classifier \n",
    "#### MultinomialNB classifier showing accuracy of 93.26% and F1 score of 0.75 when Hyperparameter is 1.0.\n"
   ]
  },
  {
   "cell_type": "code",
   "execution_count": 10,
   "id": "a69336c0",
   "metadata": {},
   "outputs": [
    {
     "name": "stdout",
     "output_type": "stream",
     "text": [
      "MultinomialNB accuracy is: 93.26\n",
      "F1 score for MultinomialNB is: 0.7557542971333199\n"
     ]
    }
   ],
   "source": [
    "from sklearn.naive_bayes import MultinomialNB\n",
    "from sklearn import metrics\n",
    "twenty_test = fetch_20newsgroups(subset='test',\n",
    "                                     )\n",
    "vectors_test = vectorizer.transform(twenty_test.data)\n",
    "clf = MultinomialNB(alpha=1.0)\n",
    "clf.fit(vectors, twenty_train.target)\n",
    "pred = clf.predict(vectors_test)\n",
    "acc_MultinomialNB = round(clf.score(vectors, twenty_train.target)* 100, 2)\n",
    "print(\"MultinomialNB accuracy is:\", acc_MultinomialNB)\n",
    "F1_acc_MultinomialNB = (metrics.f1_score(twenty_test.target, pred, average='macro'))\n",
    "print(\"F1 score for MultinomialNB is:\", F1_acc_MultinomialNB )"
   ]
  },
  {
   "cell_type": "markdown",
   "id": "7b38e047",
   "metadata": {},
   "source": [
    "### Building a pipeline"
   ]
  },
  {
   "cell_type": "code",
   "execution_count": 18,
   "id": "3762156a",
   "metadata": {},
   "outputs": [],
   "source": [
    "#Pipeline class behaves like a compound Classifier\n",
    "\n",
    "text_clf = Pipeline([\n",
    "('vect', CountVectorizer()),\n",
    "('tfidf', TfidfTransformer()),\n",
    "('clf', MultinomialNB()),\n",
    "])"
   ]
  },
  {
   "cell_type": "code",
   "execution_count": 19,
   "id": "7ca7fd40",
   "metadata": {},
   "outputs": [
    {
     "data": {
      "text/plain": [
       "Pipeline(steps=[('vect', CountVectorizer()), ('tfidf', TfidfTransformer()),\n",
       "                ('clf', MultinomialNB())])"
      ]
     },
     "execution_count": 19,
     "metadata": {},
     "output_type": "execute_result"
    }
   ],
   "source": [
    "text_clf.fit(twenty_train.data, twenty_train.target)"
   ]
  },
  {
   "cell_type": "code",
   "execution_count": 22,
   "id": "8c9da6d9",
   "metadata": {},
   "outputs": [
    {
     "data": {
      "text/plain": [
       "0.8248805098247477"
      ]
     },
     "execution_count": 22,
     "metadata": {},
     "output_type": "execute_result"
    }
   ],
   "source": [
    "#Evaluating the predictive accuracy of the model\n",
    "\n",
    "import numpy as np\n",
    "twenty_test = fetch_20newsgroups(subset='test')\n",
    "docs_test = twenty_test.data\n",
    "predicted = text_clf.predict(docs_test)\n",
    "np.mean(predicted == twenty_test.target)"
   ]
  },
  {
   "cell_type": "markdown",
   "id": "4bcf078c",
   "metadata": {},
   "source": [
    "## Q1) a) Apply SVM algorithm and see how accuracy changes: \n",
    "### The accuracy with SVM algorithm is 82.49%"
   ]
  },
  {
   "cell_type": "code",
   "execution_count": 23,
   "id": "1d8db385",
   "metadata": {},
   "outputs": [
    {
     "data": {
      "text/plain": [
       "82.49"
      ]
     },
     "execution_count": 23,
     "metadata": {},
     "output_type": "execute_result"
    }
   ],
   "source": [
    "from sklearn.linear_model import SGDClassifier\n",
    "text_clf = Pipeline([\n",
    "    ('vect', CountVectorizer()),\n",
    "    ('tfidf', TfidfTransformer()),\n",
    "    ('clf', SGDClassifier(loss='hinge', penalty='l2',\n",
    "                          alpha=1e-3, random_state=42,\n",
    "                          max_iter=5, tol=None)),\n",
    "])\n",
    "\n",
    "text_clf.fit(twenty_train.data, twenty_train.target)\n",
    "\n",
    "predicted = text_clf.predict(docs_test)\n",
    "round(np.mean(predicted == twenty_test.target)*100,2)"
   ]
  },
  {
   "cell_type": "markdown",
   "id": "5d441ca6",
   "metadata": {},
   "source": [
    "## Classification_report for SGDClassifier"
   ]
  },
  {
   "cell_type": "code",
   "execution_count": 24,
   "id": "eb9e2a0d",
   "metadata": {},
   "outputs": [
    {
     "name": "stdout",
     "output_type": "stream",
     "text": [
      "                          precision    recall  f1-score   support\n",
      "\n",
      "             alt.atheism       0.73      0.71      0.72       319\n",
      "           comp.graphics       0.78      0.72      0.75       389\n",
      " comp.os.ms-windows.misc       0.73      0.78      0.75       394\n",
      "comp.sys.ibm.pc.hardware       0.74      0.67      0.70       392\n",
      "   comp.sys.mac.hardware       0.81      0.83      0.82       385\n",
      "          comp.windows.x       0.84      0.76      0.80       395\n",
      "            misc.forsale       0.84      0.90      0.87       390\n",
      "               rec.autos       0.91      0.90      0.90       396\n",
      "         rec.motorcycles       0.93      0.96      0.95       398\n",
      "      rec.sport.baseball       0.88      0.90      0.89       397\n",
      "        rec.sport.hockey       0.88      0.99      0.93       399\n",
      "               sci.crypt       0.84      0.96      0.90       396\n",
      "         sci.electronics       0.83      0.62      0.71       393\n",
      "                 sci.med       0.87      0.86      0.87       396\n",
      "               sci.space       0.84      0.96      0.90       394\n",
      "  soc.religion.christian       0.76      0.94      0.84       398\n",
      "      talk.politics.guns       0.70      0.92      0.80       364\n",
      "   talk.politics.mideast       0.90      0.93      0.92       376\n",
      "      talk.politics.misc       0.89      0.55      0.68       310\n",
      "      talk.religion.misc       0.85      0.41      0.55       251\n",
      "\n",
      "                accuracy                           0.82      7532\n",
      "               macro avg       0.83      0.81      0.81      7532\n",
      "            weighted avg       0.83      0.82      0.82      7532\n",
      "\n"
     ]
    }
   ],
   "source": [
    "from sklearn import metrics\n",
    "print(metrics.classification_report(twenty_test.target, predicted,\n",
    "    target_names=twenty_test.target_names))\n"
   ]
  },
  {
   "cell_type": "markdown",
   "id": "faecaaf6",
   "metadata": {},
   "source": [
    " ## b) Apply KNeighborsClassifier and see how accuracy changes.\n",
    " ### The accuracy with KNeighborsClassifier is 65.79%, (n_neighbors = 3)"
   ]
  },
  {
   "cell_type": "code",
   "execution_count": 71,
   "id": "782f88d2",
   "metadata": {},
   "outputs": [
    {
     "data": {
      "text/plain": [
       "65.79"
      ]
     },
     "execution_count": 71,
     "metadata": {},
     "output_type": "execute_result"
    }
   ],
   "source": [
    "from sklearn.neighbors import KNeighborsClassifier\n",
    "\n",
    "text_knn = Pipeline([print \n",
    "    ('vect', CountVectorizer()),\n",
    "    ('tfidf', TfidfTransformer()),\n",
    "    ('clf', KNeighborsClassifier(n_neighbors = 3)),\n",
    "])\n",
    "\n",
    "text_knn.fit(twenty_train.data, twenty_train.target)\n",
    "\n",
    "predicted = text_knn.predict(docs_test)\n",
    "round(np.mean(predicted == twenty_test.target)*100,2)\n",
    "\n"
   ]
  },
  {
   "cell_type": "markdown",
   "id": "26780b41",
   "metadata": {},
   "source": [
    "## Classification_report for KNeighborsClassifier"
   ]
  },
  {
   "cell_type": "code",
   "execution_count": 72,
   "id": "05bc03af",
   "metadata": {},
   "outputs": [
    {
     "name": "stdout",
     "output_type": "stream",
     "text": [
      "                          precision    recall  f1-score   support\n",
      "\n",
      "             alt.atheism       0.43      0.75      0.54       319\n",
      "           comp.graphics       0.45      0.65      0.53       389\n",
      " comp.os.ms-windows.misc       0.52      0.56      0.54       394\n",
      "comp.sys.ibm.pc.hardware       0.52      0.62      0.57       392\n",
      "   comp.sys.mac.hardware       0.55      0.58      0.56       385\n",
      "          comp.windows.x       0.69      0.59      0.64       395\n",
      "            misc.forsale       0.59      0.48      0.53       390\n",
      "               rec.autos       0.75      0.68      0.71       396\n",
      "         rec.motorcycles       0.83      0.80      0.82       398\n",
      "      rec.sport.baseball       0.77      0.75      0.76       397\n",
      "        rec.sport.hockey       0.88      0.82      0.85       399\n",
      "               sci.crypt       0.74      0.83      0.78       396\n",
      "         sci.electronics       0.72      0.47      0.57       393\n",
      "                 sci.med       0.78      0.51      0.62       396\n",
      "               sci.space       0.81      0.77      0.79       394\n",
      "  soc.religion.christian       0.80      0.72      0.76       398\n",
      "      talk.politics.guns       0.72      0.72      0.72       364\n",
      "   talk.politics.mideast       0.70      0.72      0.71       376\n",
      "      talk.politics.misc       0.60      0.56      0.58       310\n",
      "      talk.religion.misc       0.62      0.51      0.56       251\n",
      "\n",
      "                accuracy                           0.66      7532\n",
      "               macro avg       0.67      0.65      0.66      7532\n",
      "            weighted avg       0.68      0.66      0.66      7532\n",
      "\n"
     ]
    }
   ],
   "source": [
    "print(metrics.classification_report(twenty_test.target, predicted,\n",
    "    target_names=twenty_test.target_names))"
   ]
  },
  {
   "cell_type": "markdown",
   "id": "9ccab0b2",
   "metadata": {},
   "source": [
    "### Accuracy with KNeighborsClassifier when n_neighbors = 10, is 65.37% and the Classification_report"
   ]
  },
  {
   "cell_type": "code",
   "execution_count": 73,
   "id": "60e667cf",
   "metadata": {},
   "outputs": [
    {
     "data": {
      "text/plain": [
       "65.37"
      ]
     },
     "execution_count": 73,
     "metadata": {},
     "output_type": "execute_result"
    }
   ],
   "source": [
    "from sklearn.neighbors import KNeighborsClassifier\n",
    "\n",
    "text_knn = Pipeline([\n",
    "    ('vect', CountVectorizer()),\n",
    "    ('tfidf', TfidfTransformer()),\n",
    "    ('clf', KNeighborsClassifier(n_neighbors = 10)),\n",
    "])\n",
    "\n",
    "text_knn.fit(twenty_train.data, twenty_train.target)\n",
    "\n",
    "predicted = text_knn.predict(docs_test)\n",
    "round(np.mean(predicted == twenty_test.target)*100,2)\n"
   ]
  },
  {
   "cell_type": "code",
   "execution_count": 74,
   "id": "74603b36",
   "metadata": {},
   "outputs": [
    {
     "name": "stdout",
     "output_type": "stream",
     "text": [
      "                          precision    recall  f1-score   support\n",
      "\n",
      "             alt.atheism       0.45      0.76      0.56       319\n",
      "           comp.graphics       0.57      0.57      0.57       389\n",
      " comp.os.ms-windows.misc       0.63      0.60      0.61       394\n",
      "comp.sys.ibm.pc.hardware       0.56      0.59      0.57       392\n",
      "   comp.sys.mac.hardware       0.59      0.50      0.54       385\n",
      "          comp.windows.x       0.69      0.62      0.65       395\n",
      "            misc.forsale       0.64      0.43      0.51       390\n",
      "               rec.autos       0.75      0.69      0.72       396\n",
      "         rec.motorcycles       0.81      0.78      0.79       398\n",
      "      rec.sport.baseball       0.71      0.73      0.72       397\n",
      "        rec.sport.hockey       0.82      0.85      0.83       399\n",
      "               sci.crypt       0.73      0.83      0.78       396\n",
      "         sci.electronics       0.66      0.45      0.53       393\n",
      "                 sci.med       0.82      0.46      0.59       396\n",
      "               sci.space       0.77      0.77      0.77       394\n",
      "  soc.religion.christian       0.67      0.78      0.72       398\n",
      "      talk.politics.guns       0.71      0.74      0.72       364\n",
      "   talk.politics.mideast       0.59      0.80      0.68       376\n",
      "      talk.politics.misc       0.47      0.62      0.53       310\n",
      "      talk.religion.misc       0.56      0.44      0.49       251\n",
      "\n",
      "                accuracy                           0.65      7532\n",
      "               macro avg       0.66      0.65      0.65      7532\n",
      "            weighted avg       0.67      0.65      0.65      7532\n",
      "\n"
     ]
    }
   ],
   "source": [
    "print(metrics.classification_report(twenty_test.target, predicted,\n",
    "    target_names=twenty_test.target_names))"
   ]
  },
  {
   "cell_type": "markdown",
   "id": "8c57f945",
   "metadata": {},
   "source": [
    "## d) Set the tfidf vectorizer parameter to use bigram and see how the accuracy changes.\n",
    "#### Classifier choosen: MultinomialNB(Accuracy = 98.42%) and KNeighborsClassifier(n_neighbors = 3) (Accuracy = 89.82%)"
   ]
  },
  {
   "cell_type": "code",
   "execution_count": 103,
   "id": "400b7ae5",
   "metadata": {},
   "outputs": [
    {
     "data": {
      "text/plain": [
       "98.42"
      ]
     },
     "execution_count": 103,
     "metadata": {},
     "output_type": "execute_result"
    }
   ],
   "source": [
    "# Performance of NB Classifier with ngram_range = (2,2)\n",
    "text_clf = Pipeline([\n",
    "        ('vect', TfidfVectorizer(ngram_range = (2,2))), \n",
    "        ('clf', MultinomialNB())])  \n",
    "\n",
    "text_clf.fit(twenty_train.data, twenty_train.target)\n",
    "round(text_clf.score(twenty_train.data, twenty_train.target)*100, 2)"
   ]
  },
  {
   "cell_type": "code",
   "execution_count": 105,
   "id": "8b78a460",
   "metadata": {},
   "outputs": [
    {
     "data": {
      "text/plain": [
       "89.82"
      ]
     },
     "execution_count": 105,
     "metadata": {},
     "output_type": "execute_result"
    }
   ],
   "source": [
    "# Performance of KNeighborsClassifier with ngram_range = (2,2)\n",
    "text_clf = Pipeline([\n",
    "        ('vect', TfidfVectorizer(ngram_range = (2,2))), \n",
    "        ('clf',KNeighborsClassifier(n_neighbors = 3))])  \n",
    "text_clf.fit(twenty_train.data, twenty_train.target)\n",
    "round(text_clf.score(twenty_train.data, twenty_train.target)*100, 2)"
   ]
  },
  {
   "cell_type": "markdown",
   "id": "e2dd66ea",
   "metadata": {},
   "source": [
    "### e) Set tfidf vectorizer argument to use stop_words='english' and see how accuracy changes: KNeighborsClassifier(n_neighbors = 3) Accuracy = 92.35%"
   ]
  },
  {
   "cell_type": "code",
   "execution_count": 102,
   "id": "8b5f8d45",
   "metadata": {},
   "outputs": [
    {
     "data": {
      "text/plain": [
       "92.35"
      ]
     },
     "execution_count": 102,
     "metadata": {},
     "output_type": "execute_result"
    }
   ],
   "source": [
    "text_clf = Pipeline([\n",
    "        ('vect', TfidfVectorizer(stop_words='english', binary = True, sublinear_tf=True)), \n",
    "        ('clf',KNeighborsClassifier(n_neighbors = 3))])  \n",
    "\n",
    "text_clf.fit(twenty_train.data, twenty_train.target)\n",
    "round(text_clf.score(twenty_train.data, twenty_train.target)*100, 2)\n"
   ]
  }
 ],
 "metadata": {
  "kernelspec": {
   "display_name": "Python 3 (ipykernel)",
   "language": "python",
   "name": "python3"
  },
  "language_info": {
   "codemirror_mode": {
    "name": "ipython",
    "version": 3
   },
   "file_extension": ".py",
   "mimetype": "text/x-python",
   "name": "python",
   "nbconvert_exporter": "python",
   "pygments_lexer": "ipython3",
   "version": "3.9.7"
  }
 },
 "nbformat": 4,
 "nbformat_minor": 5
}
