{
 "cells": [
  {
   "cell_type": "code",
   "execution_count": 1,
   "metadata": {
    "id": "pTRagYcvHjDj",
    "scrolled": true
   },
   "outputs": [],
   "source": [
    "import numpy as np\n",
    "\n",
    "import tensorflow as tf\n",
    "from tensorflow import keras\n",
    "\n",
    "from tensorflow.keras import layers\n",
    "\n",
    "from sklearn.preprocessing import StandardScaler\n",
    "\n",
    "from sklearn.model_selection import train_test_split\n",
    "\n",
    "import pandas as pd\n",
    "\n",
    "import matplotlib.pyplot as plt"
   ]
  },
  {
   "cell_type": "code",
   "execution_count": 2,
   "metadata": {
    "colab": {
     "base_uri": "https://localhost:8080/"
    },
    "id": "UDXJo55XnEqy",
    "outputId": "56ee8c38-bb0c-4014-d553-6289344e2b90"
   },
   "outputs": [
    {
     "name": "stdout",
     "output_type": "stream",
     "text": [
      "2.8.0\n"
     ]
    }
   ],
   "source": [
    "print(tf.__version__)"
   ]
  },
  {
   "cell_type": "code",
   "execution_count": 3,
   "metadata": {
    "id": "ApzFGDkOHnt7"
   },
   "outputs": [],
   "source": [
    "dataset = pd.read_csv(\"diabetes.csv\")"
   ]
  },
  {
   "cell_type": "code",
   "execution_count": 4,
   "metadata": {
    "colab": {
     "base_uri": "https://localhost:8080/",
     "height": 206
    },
    "id": "033I05ZJJ9ND",
    "outputId": "555fa957-0833-416e-daa1-d5a558e61bbb"
   },
   "outputs": [
    {
     "data": {
      "text/html": [
       "<div>\n",
       "<style scoped>\n",
       "    .dataframe tbody tr th:only-of-type {\n",
       "        vertical-align: middle;\n",
       "    }\n",
       "\n",
       "    .dataframe tbody tr th {\n",
       "        vertical-align: top;\n",
       "    }\n",
       "\n",
       "    .dataframe thead th {\n",
       "        text-align: right;\n",
       "    }\n",
       "</style>\n",
       "<table border=\"1\" class=\"dataframe\">\n",
       "  <thead>\n",
       "    <tr style=\"text-align: right;\">\n",
       "      <th></th>\n",
       "      <th>6</th>\n",
       "      <th>148</th>\n",
       "      <th>72</th>\n",
       "      <th>35</th>\n",
       "      <th>0</th>\n",
       "      <th>33.6</th>\n",
       "      <th>0.627</th>\n",
       "      <th>50</th>\n",
       "      <th>1</th>\n",
       "    </tr>\n",
       "  </thead>\n",
       "  <tbody>\n",
       "    <tr>\n",
       "      <th>0</th>\n",
       "      <td>1</td>\n",
       "      <td>85</td>\n",
       "      <td>66</td>\n",
       "      <td>29</td>\n",
       "      <td>0</td>\n",
       "      <td>26.6</td>\n",
       "      <td>0.351</td>\n",
       "      <td>31</td>\n",
       "      <td>0</td>\n",
       "    </tr>\n",
       "    <tr>\n",
       "      <th>1</th>\n",
       "      <td>8</td>\n",
       "      <td>183</td>\n",
       "      <td>64</td>\n",
       "      <td>0</td>\n",
       "      <td>0</td>\n",
       "      <td>23.3</td>\n",
       "      <td>0.672</td>\n",
       "      <td>32</td>\n",
       "      <td>1</td>\n",
       "    </tr>\n",
       "    <tr>\n",
       "      <th>2</th>\n",
       "      <td>1</td>\n",
       "      <td>89</td>\n",
       "      <td>66</td>\n",
       "      <td>23</td>\n",
       "      <td>94</td>\n",
       "      <td>28.1</td>\n",
       "      <td>0.167</td>\n",
       "      <td>21</td>\n",
       "      <td>0</td>\n",
       "    </tr>\n",
       "    <tr>\n",
       "      <th>3</th>\n",
       "      <td>0</td>\n",
       "      <td>137</td>\n",
       "      <td>40</td>\n",
       "      <td>35</td>\n",
       "      <td>168</td>\n",
       "      <td>43.1</td>\n",
       "      <td>2.288</td>\n",
       "      <td>33</td>\n",
       "      <td>1</td>\n",
       "    </tr>\n",
       "    <tr>\n",
       "      <th>4</th>\n",
       "      <td>5</td>\n",
       "      <td>116</td>\n",
       "      <td>74</td>\n",
       "      <td>0</td>\n",
       "      <td>0</td>\n",
       "      <td>25.6</td>\n",
       "      <td>0.201</td>\n",
       "      <td>30</td>\n",
       "      <td>0</td>\n",
       "    </tr>\n",
       "  </tbody>\n",
       "</table>\n",
       "</div>"
      ],
      "text/plain": [
       "   6  148  72  35    0  33.6  0.627  50  1\n",
       "0  1   85  66  29    0  26.6  0.351  31  0\n",
       "1  8  183  64   0    0  23.3  0.672  32  1\n",
       "2  1   89  66  23   94  28.1  0.167  21  0\n",
       "3  0  137  40  35  168  43.1  2.288  33  1\n",
       "4  5  116  74   0    0  25.6  0.201  30  0"
      ]
     },
     "execution_count": 4,
     "metadata": {},
     "output_type": "execute_result"
    }
   ],
   "source": [
    "dataset.head()"
   ]
  },
  {
   "cell_type": "code",
   "execution_count": 5,
   "metadata": {
    "id": "A_aZW8YvKNSz"
   },
   "outputs": [],
   "source": [
    "# get numpy ndarray\n",
    "dataset = dataset.values"
   ]
  },
  {
   "cell_type": "code",
   "execution_count": 6,
   "metadata": {
    "colab": {
     "base_uri": "https://localhost:8080/"
    },
    "id": "KpCo6iu1NY4i",
    "outputId": "5cb35a9f-f8df-4234-96d9-9e16df9fb7bb"
   },
   "outputs": [
    {
     "data": {
      "text/plain": [
       "numpy.ndarray"
      ]
     },
     "execution_count": 6,
     "metadata": {},
     "output_type": "execute_result"
    }
   ],
   "source": [
    "type(dataset)"
   ]
  },
  {
   "cell_type": "code",
   "execution_count": 7,
   "metadata": {
    "colab": {
     "base_uri": "https://localhost:8080/"
    },
    "id": "JtIe1DBCKegG",
    "outputId": "0e8af5e3-1307-42ae-c96d-120668264d4a"
   },
   "outputs": [
    {
     "data": {
      "text/plain": [
       "(767, 9)"
      ]
     },
     "execution_count": 7,
     "metadata": {},
     "output_type": "execute_result"
    }
   ],
   "source": [
    "dataset.shape"
   ]
  },
  {
   "cell_type": "code",
   "execution_count": 8,
   "metadata": {
    "id": "-T0Q43fAxtNW"
   },
   "outputs": [],
   "source": [
    "# Standardize features by removing the mean and scaling to unit variance\n",
    "sc = StandardScaler()"
   ]
  },
  {
   "cell_type": "code",
   "execution_count": 9,
   "metadata": {
    "id": "yt64olkkHwft"
   },
   "outputs": [],
   "source": [
    "X_train, X_test, Y_train, Y_test = train_test_split(dataset[:,0:8], dataset[:,8], test_size=0.25, random_state=42)\n",
    "X_train, X_val, Y_train, Y_val = train_test_split(X_train, Y_train, test_size=0.25, random_state=42)"
   ]
  },
  {
   "cell_type": "code",
   "execution_count": 10,
   "metadata": {
    "colab": {
     "base_uri": "https://localhost:8080/"
    },
    "id": "pTBESlF_5Zw1",
    "outputId": "09b516fa-2b0f-4e02-ca4b-05fd2805a21c"
   },
   "outputs": [
    {
     "data": {
      "text/plain": [
       "array([[ 0.68289227, -0.76579988, -0.36993244, ...,  0.28785733,\n",
       "        -0.16235258,  0.96782064],\n",
       "       [-0.85601989,  0.9779149 ,  0.24388139, ..., -0.92114345,\n",
       "        -1.09380192, -0.74274608],\n",
       "       [-0.54823746, -0.470255  , -0.10686937, ..., -0.1727144 ,\n",
       "        -0.98761063, -1.01283556],\n",
       "       ...,\n",
       "       [-0.54823746, -1.2091172 , -0.01918168, ...,  0.02878573,\n",
       "         0.04092789, -0.92280573],\n",
       "       [ 1.914022  , -0.26337359, -2.91287543, ...,  0.47496459,\n",
       "        -1.06042751, -0.29259694],\n",
       "       [ 0.68289227, -0.02693768,  0.24388139, ...,  0.23028586,\n",
       "         0.75696061,  0.1575522 ]])"
      ]
     },
     "execution_count": 10,
     "metadata": {},
     "output_type": "execute_result"
    }
   ],
   "source": [
    "sc.fit(X_train)\n",
    "sc.transform(X_train)\n",
    "sc.fit(X_test)\n",
    "sc.transform(X_test)"
   ]
  },
  {
   "cell_type": "code",
   "execution_count": 11,
   "metadata": {
    "colab": {
     "base_uri": "https://localhost:8080/"
    },
    "id": "WLv4xOYkoYGt",
    "outputId": "6406a9d0-dd1b-4d45-826a-118ea04deb31"
   },
   "outputs": [
    {
     "name": "stdout",
     "output_type": "stream",
     "text": [
      "(431, 8)\n"
     ]
    }
   ],
   "source": [
    "print(X_train.shape)"
   ]
  },
  {
   "cell_type": "markdown",
   "metadata": {},
   "source": [
    "## Add more hidden layers"
   ]
  },
  {
   "cell_type": "markdown",
   "metadata": {},
   "source": [
    "For 1 hidden layer: 6/6 [==============================] - 0s 5ms/step - loss: 0.6075 - acc: 0.7500\n",
    "<br>For 3 hidden layers: 6/6 [==============================] - 0s 0s/step - loss: 1.0355 - acc: 0.7135"
   ]
  },
  {
   "cell_type": "code",
   "execution_count": 12,
   "metadata": {
    "colab": {
     "base_uri": "https://localhost:8080/"
    },
    "id": "rMfomxTmH3ww",
    "outputId": "9da433b0-1d2b-41d7-8a38-32ed0b434825",
    "scrolled": true
   },
   "outputs": [
    {
     "name": "stdout",
     "output_type": "stream",
     "text": [
      "Model: \"sequential\"\n",
      "_________________________________________________________________\n",
      " Layer (type)                Output Shape              Param #   \n",
      "=================================================================\n",
      " dense (Dense)               (None, 32)                288       \n",
      "                                                                 \n",
      " dense_1 (Dense)             (None, 64)                2112      \n",
      "                                                                 \n",
      " dense_2 (Dense)             (None, 64)                4160      \n",
      "                                                                 \n",
      " dense_3 (Dense)             (None, 64)                4160      \n",
      "                                                                 \n",
      " dense_4 (Dense)             (None, 1)                 65        \n",
      "                                                                 \n",
      "=================================================================\n",
      "Total params: 10,785\n",
      "Trainable params: 10,785\n",
      "Non-trainable params: 0\n",
      "_________________________________________________________________\n"
     ]
    }
   ],
   "source": [
    "model = keras.Sequential() # create model\n",
    "\n",
    "# FIX ME\n",
    "model.add(layers.Dense(32, input_dim=8, activation='relu')) # Input layer\n",
    "\n",
    "model.add(layers.Dense(64, activation='relu')) # hidden layer1.\n",
    "\n",
    "model.add(layers.Dense(64, activation='relu')) # hidden layer2.\n",
    "\n",
    "model.add(layers.Dense(64, activation='relu')) # hidden layer3.\n",
    "\n",
    "model.add(layers.Dense(1, activation='sigmoid')) # output layer\n",
    "\n",
    "model.compile(loss='binary_crossentropy', optimizer='adam', metrics=['acc'])\n",
    "\n",
    "model.summary()"
   ]
  },
  {
   "cell_type": "code",
   "execution_count": 13,
   "metadata": {
    "colab": {
     "base_uri": "https://localhost:8080/"
    },
    "id": "2PdPpP7fK-TD",
    "outputId": "bfcebbee-d20e-406a-bc37-328767bb313f"
   },
   "outputs": [
    {
     "name": "stdout",
     "output_type": "stream",
     "text": [
      "Epoch 1/100\n",
      "9/9 [==============================] - 1s 21ms/step - loss: 2.1695 - acc: 0.4942 - val_loss: 1.6788 - val_acc: 0.6667\n",
      "Epoch 2/100\n",
      "9/9 [==============================] - 0s 7ms/step - loss: 1.0904 - acc: 0.5893 - val_loss: 0.7565 - val_acc: 0.6806\n",
      "Epoch 3/100\n",
      "9/9 [==============================] - 0s 6ms/step - loss: 0.8369 - acc: 0.6172 - val_loss: 0.7370 - val_acc: 0.6250\n",
      "Epoch 4/100\n",
      "9/9 [==============================] - 0s 6ms/step - loss: 0.6805 - acc: 0.6566 - val_loss: 0.6743 - val_acc: 0.6597\n",
      "Epoch 5/100\n",
      "9/9 [==============================] - 0s 7ms/step - loss: 0.6449 - acc: 0.6497 - val_loss: 0.6777 - val_acc: 0.6389\n",
      "Epoch 6/100\n",
      "9/9 [==============================] - 0s 4ms/step - loss: 0.6017 - acc: 0.7169 - val_loss: 0.6462 - val_acc: 0.6806\n",
      "Epoch 7/100\n",
      "9/9 [==============================] - 0s 4ms/step - loss: 0.6100 - acc: 0.6961 - val_loss: 0.6979 - val_acc: 0.6111\n",
      "Epoch 8/100\n",
      "9/9 [==============================] - 0s 5ms/step - loss: 0.5938 - acc: 0.7030 - val_loss: 0.6508 - val_acc: 0.6667\n",
      "Epoch 9/100\n",
      "9/9 [==============================] - 0s 6ms/step - loss: 0.5861 - acc: 0.6984 - val_loss: 0.7375 - val_acc: 0.6250\n",
      "Epoch 10/100\n",
      "9/9 [==============================] - 0s 5ms/step - loss: 0.5692 - acc: 0.7123 - val_loss: 0.6663 - val_acc: 0.6458\n",
      "Epoch 11/100\n",
      "9/9 [==============================] - 0s 6ms/step - loss: 0.6052 - acc: 0.6937 - val_loss: 0.6594 - val_acc: 0.6597\n",
      "Epoch 12/100\n",
      "9/9 [==============================] - 0s 7ms/step - loss: 0.7297 - acc: 0.6729 - val_loss: 0.6831 - val_acc: 0.6389\n",
      "Epoch 13/100\n",
      "9/9 [==============================] - 0s 4ms/step - loss: 0.6679 - acc: 0.6821 - val_loss: 0.7705 - val_acc: 0.5208\n",
      "Epoch 14/100\n",
      "9/9 [==============================] - 0s 7ms/step - loss: 0.6917 - acc: 0.6752 - val_loss: 0.9067 - val_acc: 0.5208\n",
      "Epoch 15/100\n",
      "9/9 [==============================] - 0s 5ms/step - loss: 0.6680 - acc: 0.6775 - val_loss: 0.6370 - val_acc: 0.6806\n",
      "Epoch 16/100\n",
      "9/9 [==============================] - 0s 7ms/step - loss: 0.5782 - acc: 0.6891 - val_loss: 0.6780 - val_acc: 0.6250\n",
      "Epoch 17/100\n",
      "9/9 [==============================] - 0s 7ms/step - loss: 0.5498 - acc: 0.7216 - val_loss: 0.6518 - val_acc: 0.6736\n",
      "Epoch 18/100\n",
      "9/9 [==============================] - 0s 7ms/step - loss: 0.5431 - acc: 0.7285 - val_loss: 0.6376 - val_acc: 0.6944\n",
      "Epoch 19/100\n",
      "9/9 [==============================] - 0s 6ms/step - loss: 0.5308 - acc: 0.7193 - val_loss: 0.6640 - val_acc: 0.6181\n",
      "Epoch 20/100\n",
      "9/9 [==============================] - 0s 5ms/step - loss: 0.5368 - acc: 0.7146 - val_loss: 0.7128 - val_acc: 0.6319\n",
      "Epoch 21/100\n",
      "9/9 [==============================] - 0s 6ms/step - loss: 0.5479 - acc: 0.7193 - val_loss: 0.6469 - val_acc: 0.6875\n",
      "Epoch 22/100\n",
      "9/9 [==============================] - 0s 5ms/step - loss: 0.5170 - acc: 0.7378 - val_loss: 0.6496 - val_acc: 0.6667\n",
      "Epoch 23/100\n",
      "9/9 [==============================] - 0s 5ms/step - loss: 0.5249 - acc: 0.7332 - val_loss: 0.6694 - val_acc: 0.6181\n",
      "Epoch 24/100\n",
      "9/9 [==============================] - 0s 5ms/step - loss: 0.5165 - acc: 0.7494 - val_loss: 0.6522 - val_acc: 0.6389\n",
      "Epoch 25/100\n",
      "9/9 [==============================] - 0s 5ms/step - loss: 0.5187 - acc: 0.7309 - val_loss: 0.6677 - val_acc: 0.6250\n",
      "Epoch 26/100\n",
      "9/9 [==============================] - 0s 4ms/step - loss: 0.5146 - acc: 0.7378 - val_loss: 0.6655 - val_acc: 0.6597\n",
      "Epoch 27/100\n",
      "9/9 [==============================] - 0s 5ms/step - loss: 0.5285 - acc: 0.7332 - val_loss: 0.6300 - val_acc: 0.6597\n",
      "Epoch 28/100\n",
      "9/9 [==============================] - 0s 5ms/step - loss: 0.5177 - acc: 0.7401 - val_loss: 0.6879 - val_acc: 0.6319\n",
      "Epoch 29/100\n",
      "9/9 [==============================] - 0s 5ms/step - loss: 0.5384 - acc: 0.7332 - val_loss: 0.6562 - val_acc: 0.6528\n",
      "Epoch 30/100\n",
      "9/9 [==============================] - 0s 5ms/step - loss: 0.5092 - acc: 0.7401 - val_loss: 0.6268 - val_acc: 0.6458\n",
      "Epoch 31/100\n",
      "9/9 [==============================] - 0s 5ms/step - loss: 0.4956 - acc: 0.7680 - val_loss: 0.6661 - val_acc: 0.6806\n",
      "Epoch 32/100\n",
      "9/9 [==============================] - 0s 5ms/step - loss: 0.5056 - acc: 0.7401 - val_loss: 0.6264 - val_acc: 0.6597\n",
      "Epoch 33/100\n",
      "9/9 [==============================] - 0s 4ms/step - loss: 0.5019 - acc: 0.7564 - val_loss: 0.6471 - val_acc: 0.6597\n",
      "Epoch 34/100\n",
      "9/9 [==============================] - 0s 5ms/step - loss: 0.5679 - acc: 0.7193 - val_loss: 0.6773 - val_acc: 0.6528\n",
      "Epoch 35/100\n",
      "9/9 [==============================] - 0s 5ms/step - loss: 0.5069 - acc: 0.7633 - val_loss: 0.6485 - val_acc: 0.6736\n",
      "Epoch 36/100\n",
      "9/9 [==============================] - 0s 5ms/step - loss: 0.4989 - acc: 0.7448 - val_loss: 0.6656 - val_acc: 0.6319\n",
      "Epoch 37/100\n",
      "9/9 [==============================] - 0s 4ms/step - loss: 0.5047 - acc: 0.7517 - val_loss: 0.6796 - val_acc: 0.6528\n",
      "Epoch 38/100\n",
      "9/9 [==============================] - 0s 5ms/step - loss: 0.4827 - acc: 0.7796 - val_loss: 0.6666 - val_acc: 0.6458\n",
      "Epoch 39/100\n",
      "9/9 [==============================] - 0s 5ms/step - loss: 0.4939 - acc: 0.7703 - val_loss: 0.7173 - val_acc: 0.6319\n",
      "Epoch 40/100\n",
      "9/9 [==============================] - 0s 5ms/step - loss: 0.4919 - acc: 0.7401 - val_loss: 0.6417 - val_acc: 0.6667\n",
      "Epoch 41/100\n",
      "9/9 [==============================] - 0s 4ms/step - loss: 0.5221 - acc: 0.7193 - val_loss: 0.6636 - val_acc: 0.6736\n",
      "Epoch 42/100\n",
      "9/9 [==============================] - 0s 5ms/step - loss: 0.5276 - acc: 0.7494 - val_loss: 0.7043 - val_acc: 0.6319\n",
      "Epoch 43/100\n",
      "9/9 [==============================] - 0s 4ms/step - loss: 0.5349 - acc: 0.7332 - val_loss: 0.7254 - val_acc: 0.6458\n",
      "Epoch 44/100\n",
      "9/9 [==============================] - 0s 5ms/step - loss: 0.5071 - acc: 0.7494 - val_loss: 0.7915 - val_acc: 0.6319\n",
      "Epoch 45/100\n",
      "9/9 [==============================] - 0s 4ms/step - loss: 0.5644 - acc: 0.7123 - val_loss: 0.6444 - val_acc: 0.6319\n",
      "Epoch 46/100\n",
      "9/9 [==============================] - 0s 5ms/step - loss: 0.4924 - acc: 0.7587 - val_loss: 0.6523 - val_acc: 0.6667\n",
      "Epoch 47/100\n",
      "9/9 [==============================] - 0s 5ms/step - loss: 0.4957 - acc: 0.7587 - val_loss: 0.6817 - val_acc: 0.6458\n",
      "Epoch 48/100\n",
      "9/9 [==============================] - 0s 5ms/step - loss: 0.5050 - acc: 0.7309 - val_loss: 0.6203 - val_acc: 0.6806\n",
      "Epoch 49/100\n",
      "9/9 [==============================] - 0s 6ms/step - loss: 0.4643 - acc: 0.7773 - val_loss: 0.7406 - val_acc: 0.6528\n",
      "Epoch 50/100\n",
      "9/9 [==============================] - 0s 4ms/step - loss: 0.4907 - acc: 0.7610 - val_loss: 0.6161 - val_acc: 0.6875\n",
      "Epoch 51/100\n",
      "9/9 [==============================] - 0s 5ms/step - loss: 0.4662 - acc: 0.7680 - val_loss: 0.6402 - val_acc: 0.6597\n",
      "Epoch 52/100\n",
      "9/9 [==============================] - 0s 4ms/step - loss: 0.4551 - acc: 0.7749 - val_loss: 0.6712 - val_acc: 0.6389\n",
      "Epoch 53/100\n",
      "9/9 [==============================] - 0s 6ms/step - loss: 0.5034 - acc: 0.7494 - val_loss: 0.6921 - val_acc: 0.6389\n",
      "Epoch 54/100\n",
      "9/9 [==============================] - 0s 6ms/step - loss: 0.5291 - acc: 0.7332 - val_loss: 0.6739 - val_acc: 0.6181\n",
      "Epoch 55/100\n",
      "9/9 [==============================] - 0s 5ms/step - loss: 0.4699 - acc: 0.7610 - val_loss: 0.6375 - val_acc: 0.6875\n",
      "Epoch 56/100\n",
      "9/9 [==============================] - 0s 6ms/step - loss: 0.4897 - acc: 0.7541 - val_loss: 0.6661 - val_acc: 0.6597\n",
      "Epoch 57/100\n",
      "9/9 [==============================] - 0s 5ms/step - loss: 0.5115 - acc: 0.7448 - val_loss: 0.6558 - val_acc: 0.6736\n",
      "Epoch 58/100\n",
      "9/9 [==============================] - 0s 6ms/step - loss: 0.4576 - acc: 0.7889 - val_loss: 0.6144 - val_acc: 0.7153\n",
      "Epoch 59/100\n",
      "9/9 [==============================] - 0s 5ms/step - loss: 0.4752 - acc: 0.7564 - val_loss: 0.6881 - val_acc: 0.6667\n",
      "Epoch 60/100\n",
      "9/9 [==============================] - 0s 5ms/step - loss: 0.5047 - acc: 0.7378 - val_loss: 0.6671 - val_acc: 0.6458\n",
      "Epoch 61/100\n",
      "9/9 [==============================] - 0s 6ms/step - loss: 0.4756 - acc: 0.7842 - val_loss: 0.6117 - val_acc: 0.6875\n",
      "Epoch 62/100\n",
      "9/9 [==============================] - 0s 7ms/step - loss: 0.4456 - acc: 0.7842 - val_loss: 0.6193 - val_acc: 0.6736\n",
      "Epoch 63/100\n",
      "9/9 [==============================] - 0s 7ms/step - loss: 0.4646 - acc: 0.7773 - val_loss: 0.6382 - val_acc: 0.6597\n",
      "Epoch 64/100\n"
     ]
    },
    {
     "name": "stdout",
     "output_type": "stream",
     "text": [
      "9/9 [==============================] - 0s 6ms/step - loss: 0.4974 - acc: 0.7610 - val_loss: 0.6328 - val_acc: 0.6597\n",
      "Epoch 65/100\n",
      "9/9 [==============================] - 0s 7ms/step - loss: 0.4460 - acc: 0.8121 - val_loss: 0.6859 - val_acc: 0.6458\n",
      "Epoch 66/100\n",
      "9/9 [==============================] - 0s 7ms/step - loss: 0.4752 - acc: 0.7703 - val_loss: 0.6742 - val_acc: 0.6319\n",
      "Epoch 67/100\n",
      "9/9 [==============================] - 0s 5ms/step - loss: 0.4763 - acc: 0.7796 - val_loss: 0.7283 - val_acc: 0.6458\n",
      "Epoch 68/100\n",
      "9/9 [==============================] - 0s 6ms/step - loss: 0.4376 - acc: 0.8005 - val_loss: 0.6125 - val_acc: 0.7222\n",
      "Epoch 69/100\n",
      "9/9 [==============================] - 0s 5ms/step - loss: 0.4359 - acc: 0.7773 - val_loss: 0.6442 - val_acc: 0.6806\n",
      "Epoch 70/100\n",
      "9/9 [==============================] - 0s 5ms/step - loss: 0.4932 - acc: 0.7657 - val_loss: 0.6592 - val_acc: 0.6736\n",
      "Epoch 71/100\n",
      "9/9 [==============================] - 0s 5ms/step - loss: 0.4406 - acc: 0.7935 - val_loss: 0.6526 - val_acc: 0.6806\n",
      "Epoch 72/100\n",
      "9/9 [==============================] - 0s 4ms/step - loss: 0.4492 - acc: 0.7935 - val_loss: 0.6133 - val_acc: 0.7083\n",
      "Epoch 73/100\n",
      "9/9 [==============================] - 0s 5ms/step - loss: 0.4273 - acc: 0.7981 - val_loss: 0.6416 - val_acc: 0.7014\n",
      "Epoch 74/100\n",
      "9/9 [==============================] - 0s 4ms/step - loss: 0.4376 - acc: 0.8051 - val_loss: 0.6600 - val_acc: 0.6458\n",
      "Epoch 75/100\n",
      "9/9 [==============================] - 0s 4ms/step - loss: 0.4430 - acc: 0.7935 - val_loss: 0.6193 - val_acc: 0.6875\n",
      "Epoch 76/100\n",
      "9/9 [==============================] - 0s 5ms/step - loss: 0.4259 - acc: 0.7981 - val_loss: 0.6424 - val_acc: 0.6458\n",
      "Epoch 77/100\n",
      "9/9 [==============================] - 0s 6ms/step - loss: 0.4072 - acc: 0.8190 - val_loss: 0.6516 - val_acc: 0.6389\n",
      "Epoch 78/100\n",
      "9/9 [==============================] - 0s 6ms/step - loss: 0.4571 - acc: 0.7958 - val_loss: 0.6763 - val_acc: 0.6667\n",
      "Epoch 79/100\n",
      "9/9 [==============================] - 0s 6ms/step - loss: 0.4148 - acc: 0.8121 - val_loss: 0.6668 - val_acc: 0.5972\n",
      "Epoch 80/100\n",
      "9/9 [==============================] - 0s 4ms/step - loss: 0.4114 - acc: 0.8190 - val_loss: 0.6940 - val_acc: 0.6389\n",
      "Epoch 81/100\n",
      "9/9 [==============================] - 0s 5ms/step - loss: 0.4303 - acc: 0.7680 - val_loss: 0.7056 - val_acc: 0.6528\n",
      "Epoch 82/100\n",
      "9/9 [==============================] - 0s 5ms/step - loss: 0.4779 - acc: 0.7471 - val_loss: 0.7732 - val_acc: 0.6528\n",
      "Epoch 83/100\n",
      "9/9 [==============================] - 0s 4ms/step - loss: 0.5302 - acc: 0.7587 - val_loss: 0.6990 - val_acc: 0.6528\n",
      "Epoch 84/100\n",
      "9/9 [==============================] - 0s 4ms/step - loss: 0.4627 - acc: 0.7749 - val_loss: 0.6667 - val_acc: 0.6250\n",
      "Epoch 85/100\n",
      "9/9 [==============================] - 0s 6ms/step - loss: 0.4549 - acc: 0.7680 - val_loss: 0.6417 - val_acc: 0.6667\n",
      "Epoch 86/100\n",
      "9/9 [==============================] - 0s 6ms/step - loss: 0.4099 - acc: 0.7912 - val_loss: 0.6959 - val_acc: 0.6875\n",
      "Epoch 87/100\n",
      "9/9 [==============================] - 0s 5ms/step - loss: 0.4016 - acc: 0.8051 - val_loss: 0.6468 - val_acc: 0.6528\n",
      "Epoch 88/100\n",
      "9/9 [==============================] - 0s 5ms/step - loss: 0.4006 - acc: 0.8121 - val_loss: 0.6233 - val_acc: 0.7014\n",
      "Epoch 89/100\n",
      "9/9 [==============================] - 0s 5ms/step - loss: 0.3926 - acc: 0.8074 - val_loss: 0.6712 - val_acc: 0.6319\n",
      "Epoch 90/100\n",
      "9/9 [==============================] - 0s 5ms/step - loss: 0.3956 - acc: 0.8237 - val_loss: 0.6904 - val_acc: 0.6736\n",
      "Epoch 91/100\n",
      "9/9 [==============================] - 0s 5ms/step - loss: 0.4097 - acc: 0.7773 - val_loss: 0.6939 - val_acc: 0.6667\n",
      "Epoch 92/100\n",
      "9/9 [==============================] - 0s 6ms/step - loss: 0.4186 - acc: 0.8051 - val_loss: 0.6331 - val_acc: 0.6319\n",
      "Epoch 93/100\n",
      "9/9 [==============================] - 0s 5ms/step - loss: 0.4405 - acc: 0.7865 - val_loss: 0.6219 - val_acc: 0.6875\n",
      "Epoch 94/100\n",
      "9/9 [==============================] - 0s 5ms/step - loss: 0.4353 - acc: 0.7726 - val_loss: 0.6698 - val_acc: 0.6597\n",
      "Epoch 95/100\n",
      "9/9 [==============================] - 0s 5ms/step - loss: 0.4015 - acc: 0.8121 - val_loss: 0.6308 - val_acc: 0.7083\n",
      "Epoch 96/100\n",
      "9/9 [==============================] - 0s 6ms/step - loss: 0.3881 - acc: 0.8051 - val_loss: 0.6961 - val_acc: 0.6181\n",
      "Epoch 97/100\n",
      "9/9 [==============================] - 0s 5ms/step - loss: 0.3752 - acc: 0.8283 - val_loss: 0.6504 - val_acc: 0.6667\n",
      "Epoch 98/100\n",
      "9/9 [==============================] - 0s 5ms/step - loss: 0.3807 - acc: 0.8213 - val_loss: 0.6331 - val_acc: 0.6944\n",
      "Epoch 99/100\n",
      "9/9 [==============================] - 0s 6ms/step - loss: 0.3998 - acc: 0.8353 - val_loss: 0.6374 - val_acc: 0.6875\n",
      "Epoch 100/100\n",
      "9/9 [==============================] - 0s 5ms/step - loss: 0.4163 - acc: 0.7912 - val_loss: 0.6371 - val_acc: 0.6875\n"
     ]
    }
   ],
   "source": [
    "# Train thye model with 100 epochs(no. of batches), 50 data points in each batch and validate with split data.\n",
    "my_first_nn_fitted = model.fit(X_train, Y_train, epochs=100, batch_size = 50, validation_data=(X_val,Y_val))"
   ]
  },
  {
   "cell_type": "code",
   "execution_count": 14,
   "metadata": {
    "colab": {
     "base_uri": "https://localhost:8080/"
    },
    "id": "EBYPua9zH-E6",
    "outputId": "75c31456-3d4e-4559-b8a3-4abd70597e75"
   },
   "outputs": [
    {
     "name": "stdout",
     "output_type": "stream",
     "text": [
      "6/6 [==============================] - 0s 3ms/step - loss: 0.7163 - acc: 0.7188\n"
     ]
    }
   ],
   "source": [
    "scores = model.evaluate(X_test, Y_test)"
   ]
  },
  {
   "cell_type": "code",
   "execution_count": 15,
   "metadata": {
    "colab": {
     "base_uri": "https://localhost:8080/"
    },
    "id": "3RwYgODqoRGb",
    "outputId": "bcff8d3a-4e38-41a6-abff-2e445aed5384",
    "scrolled": true
   },
   "outputs": [
    {
     "name": "stdout",
     "output_type": "stream",
     "text": [
      "[0.7162953019142151, 0.71875]\n"
     ]
    }
   ],
   "source": [
    "print(scores)"
   ]
  },
  {
   "cell_type": "code",
   "execution_count": 16,
   "metadata": {},
   "outputs": [
    {
     "data": {
      "image/png": "[encoded data removed]",
      "text/plain": [
       "<Figure size 432x288 with 1 Axes>"
      ]
     },
     "metadata": {
      "needs_background": "light"
     },
     "output_type": "display_data"
    }
   ],
   "source": [
    "loss_train = my_first_nn_fitted.history['loss'] \n",
    "loss_test = my_first_nn_fitted.history['val_loss']\n",
    "epochs = range(1,101)\n",
    "plt.plot(epochs, loss_train, 'g', label='Training loss') # Training loss is labled and the graph is shown in green color.\n",
    "plt.plot(epochs, loss_test, 'b', label='validation loss') # Validation loss is labled and the graph is shown in blue color.\n",
    "plt.title('Training and Validation loss') # Label the title of the graph.\n",
    "plt.xlabel('Epochs')\n",
    "plt.ylabel('Loss')\n",
    "plt.legend()\n",
    "plt.show() # Display the graph."
   ]
  },
  {
   "cell_type": "code",
   "execution_count": 18,
   "metadata": {},
   "outputs": [
    {
     "data": {
      "image/png": "[encoded data removed]",
      "text/plain": [
       "<Figure size 432x288 with 1 Axes>"
      ]
     },
     "metadata": {
      "needs_background": "light"
     },
     "output_type": "display_data"
    }
   ],
   "source": [
    "acc_train = my_first_nn_fitted.history['acc']\n",
    "acc_test = my_first_nn_fitted.history['val_acc']\n",
    "epochs = range(1,101)\n",
    "plt.plot(epochs, acc_train, 'g', label='Training Accuracy') # Training accuracy is labled and the graph is shown in green color.\n",
    "plt.plot(epochs, acc_test, 'b', label='validation Accuracy') # Validation accuracy is labled and the graph is shown in blue color.\n",
    "plt.title('Training and Validation Accuracy')\n",
    "plt.xlabel('Epochs')\n",
    "plt.ylabel('Loss')\n",
    "plt.legend()\n",
    "plt.show()"
   ]
  },
  {
   "cell_type": "code",
   "execution_count": null,
   "metadata": {},
   "outputs": [],
   "source": []
  }
 ],
 "metadata": {
  "accelerator": "GPU",
  "colab": {
   "collapsed_sections": [],
   "name": "DL_Lesson_1.ipynb",
   "provenance": []
  },
  "kernelspec": {
   "display_name": "Python 3 (ipykernel)",
   "language": "python",
   "name": "python3"
  },
  "language_info": {
   "codemirror_mode": {
    "name": "ipython",
    "version": 3
   },
   "file_extension": ".py",
   "mimetype": "text/x-python",
   "name": "python",
   "nbconvert_exporter": "python",
   "pygments_lexer": "ipython3",
   "version": "3.9.7"
  }
 },
 "nbformat": 4,
 "nbformat_minor": 1
}
