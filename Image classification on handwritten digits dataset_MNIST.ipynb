{
 "cells": [
  {
   "cell_type": "markdown",
   "id": "3b2a1af9",
   "metadata": {},
   "source": [
    "### Import all the necessary libraries."
   ]
  },
  {
   "cell_type": "code",
   "execution_count": 1,
   "id": "1fc42234",
   "metadata": {},
   "outputs": [],
   "source": [
    "from tensorflow import keras\n",
    "from keras.layers import Dense\n",
    "from tensorflow.keras import layers\n",
    "from keras.datasets import mnist\n",
    "from tensorflow.keras.utils import to_categorical\n",
    "from matplotlib import pyplot as plt\n",
    "import numpy as np\n",
    "import pandas as pd"
   ]
  },
  {
   "cell_type": "markdown",
   "id": "107aba05",
   "metadata": {},
   "source": [
    "### Load the data sets and display one image."
   ]
  },
  {
   "cell_type": "code",
   "execution_count": 2,
   "id": "7513109e",
   "metadata": {},
   "outputs": [
    {
     "data": {
      "image/png": "[encoded data removed]",
      "text/plain": [
       "<Figure size 432x288 with 1 Axes>"
      ]
     },
     "metadata": {
      "needs_background": "light"
     },
     "output_type": "display_data"
    }
   ],
   "source": [
    "# Load the mnist data into train and test images.\n",
    "(train_images,train_labels),(test_images, test_labels) = mnist.load_data()\n",
    "\n",
    "#display the first image in the training data\n",
    "plt.imshow(train_images[0,:,:],cmap='gray')\n",
    "plt.title('Ground Truth : {}'.format(train_labels[0]))\n",
    "plt.show()"
   ]
  },
  {
   "cell_type": "markdown",
   "id": "3c564702",
   "metadata": {},
   "source": [
    "### Reshape the data."
   ]
  },
  {
   "cell_type": "code",
   "execution_count": 3,
   "id": "eca494e7",
   "metadata": {},
   "outputs": [],
   "source": [
    "# convert each image of shape 28*28 to 784 dimensional which will be fed to the network as a single feature\n",
    "dimData = np.prod(train_images.shape[1:])\n",
    "train_data = train_images.reshape(train_images.shape[0],dimData)\n",
    "test_data = test_images.reshape(test_images.shape[0],dimData)"
   ]
  },
  {
   "cell_type": "markdown",
   "id": "1fc8a528",
   "metadata": {},
   "source": [
    "### Scale the data."
   ]
  },
  {
   "cell_type": "code",
   "execution_count": 4,
   "id": "51384d96",
   "metadata": {},
   "outputs": [],
   "source": [
    "# convert data to float and scale values between 0 and 1\n",
    "train_data=train_data.astype('float')\n",
    "test_data=test_data.astype('float')\n",
    "\n",
    "# scale data\n",
    "train_data/=255.0\n",
    "test_data/=255.0"
   ]
  },
  {
   "cell_type": "markdown",
   "id": "d9f62a0f",
   "metadata": {},
   "source": [
    "### One-hot encoding."
   ]
  },
  {
   "cell_type": "code",
   "execution_count": 5,
   "id": "73ad602b",
   "metadata": {},
   "outputs": [],
   "source": [
    "# change the labels from integer to one-hot encoding\n",
    "train_labels_one_hot = to_categorical(train_labels)\n",
    "test_labels_one_hot = to_categorical(test_labels)"
   ]
  },
  {
   "cell_type": "markdown",
   "id": "8babf95e",
   "metadata": {},
   "source": [
    "### Build the model."
   ]
  },
  {
   "cell_type": "code",
   "execution_count": 6,
   "id": "c0ff7a49",
   "metadata": {},
   "outputs": [
    {
     "name": "stdout",
     "output_type": "stream",
     "text": [
      "Epoch 1/20\n",
      "235/235 [==============================] - 3s 11ms/step - loss: 0.2735 - accuracy: 0.9146 - val_loss: 0.1156 - val_accuracy: 0.9636\n",
      "Epoch 2/20\n",
      "235/235 [==============================] - 3s 11ms/step - loss: 0.0915 - accuracy: 0.9719 - val_loss: 0.1008 - val_accuracy: 0.9708\n",
      "Epoch 3/20\n",
      "235/235 [==============================] - 2s 9ms/step - loss: 0.0583 - accuracy: 0.9817 - val_loss: 0.0936 - val_accuracy: 0.9719\n",
      "Epoch 4/20\n",
      "235/235 [==============================] - 2s 9ms/step - loss: 0.0397 - accuracy: 0.9875 - val_loss: 0.0694 - val_accuracy: 0.9811\n",
      "Epoch 5/20\n",
      "235/235 [==============================] - 2s 9ms/step - loss: 0.0281 - accuracy: 0.9914 - val_loss: 0.0645 - val_accuracy: 0.9825\n",
      "Epoch 6/20\n",
      "235/235 [==============================] - 2s 9ms/step - loss: 0.0217 - accuracy: 0.9926 - val_loss: 0.0751 - val_accuracy: 0.9809\n",
      "Epoch 7/20\n",
      "235/235 [==============================] - 2s 9ms/step - loss: 0.0174 - accuracy: 0.9943 - val_loss: 0.0774 - val_accuracy: 0.9813\n",
      "Epoch 8/20\n",
      "235/235 [==============================] - 2s 9ms/step - loss: 0.0133 - accuracy: 0.9957 - val_loss: 0.0997 - val_accuracy: 0.9765\n",
      "Epoch 9/20\n",
      "235/235 [==============================] - 2s 10ms/step - loss: 0.0104 - accuracy: 0.9966 - val_loss: 0.0918 - val_accuracy: 0.9808\n",
      "Epoch 10/20\n",
      "235/235 [==============================] - 2s 10ms/step - loss: 0.0091 - accuracy: 0.9969 - val_loss: 0.0893 - val_accuracy: 0.9836\n",
      "Epoch 11/20\n",
      "235/235 [==============================] - 2s 9ms/step - loss: 0.0077 - accuracy: 0.9973 - val_loss: 0.0882 - val_accuracy: 0.9826\n",
      "Epoch 12/20\n",
      "235/235 [==============================] - 2s 9ms/step - loss: 0.0062 - accuracy: 0.9980 - val_loss: 0.1056 - val_accuracy: 0.9827\n",
      "Epoch 13/20\n",
      "235/235 [==============================] - 2s 9ms/step - loss: 0.0066 - accuracy: 0.9978 - val_loss: 0.1108 - val_accuracy: 0.9823\n",
      "Epoch 14/20\n",
      "235/235 [==============================] - 2s 10ms/step - loss: 0.0055 - accuracy: 0.9982 - val_loss: 0.1095 - val_accuracy: 0.9834\n",
      "Epoch 15/20\n",
      "235/235 [==============================] - 2s 9ms/step - loss: 0.0061 - accuracy: 0.9981 - val_loss: 0.1332 - val_accuracy: 0.9790\n",
      "Epoch 16/20\n",
      "235/235 [==============================] - 2s 9ms/step - loss: 0.0049 - accuracy: 0.9984 - val_loss: 0.1089 - val_accuracy: 0.9845\n",
      "Epoch 17/20\n",
      "235/235 [==============================] - 2s 9ms/step - loss: 0.0042 - accuracy: 0.9987 - val_loss: 0.1225 - val_accuracy: 0.9823\n",
      "Epoch 18/20\n",
      "235/235 [==============================] - 2s 9ms/step - loss: 0.0037 - accuracy: 0.9989 - val_loss: 0.1119 - val_accuracy: 0.9844\n",
      "Epoch 19/20\n",
      "235/235 [==============================] - 2s 9ms/step - loss: 0.0037 - accuracy: 0.9989 - val_loss: 0.1281 - val_accuracy: 0.9829\n",
      "Epoch 20/20\n",
      "235/235 [==============================] - 2s 9ms/step - loss: 0.0037 - accuracy: 0.9988 - val_loss: 0.1282 - val_accuracy: 0.9832\n"
     ]
    }
   ],
   "source": [
    "# creating network\n",
    "model = keras.Sequential()\n",
    "model.add(Dense(512, activation='relu', input_shape=(dimData,)))\n",
    "model.add(Dense(512, activation='relu'))\n",
    "model.add(Dense(10, activation='softmax'))\n",
    "model.compile(optimizer='rmsprop', loss='categorical_crossentropy', metrics=['accuracy'])\n",
    "history = model.fit(train_data, train_labels_one_hot, batch_size=256, epochs=20, verbose=1,validation_data=(test_data, test_labels_one_hot))"
   ]
  },
  {
   "cell_type": "markdown",
   "id": "e7965a0f",
   "metadata": {},
   "source": [
    "### Evaluation: \n",
    "#### Loss = 0.1318, Accuracy = 0.9828"
   ]
  },
  {
   "cell_type": "code",
   "execution_count": 7,
   "id": "6feb75a1",
   "metadata": {},
   "outputs": [
    {
     "name": "stdout",
     "output_type": "stream",
     "text": [
      "313/313 [==============================] - 1s 3ms/step - loss: 0.1282 - accuracy: 0.9832\n",
      "Evaluation result on Test Data : Loss = 0.1282305121421814, accuracy = 0.9832000136375427\n"
     ]
    }
   ],
   "source": [
    "[test_loss, test_acc] = model.evaluate(test_data, test_labels_one_hot)\n",
    "print(\"Evaluation result on Test Data : Loss = {}, accuracy = {}\".format(test_loss, test_acc))"
   ]
  },
  {
   "cell_type": "markdown",
   "id": "310c6847",
   "metadata": {},
   "source": [
    "Inference on the model"
   ]
  },
  {
   "cell_type": "code",
   "execution_count": 8,
   "id": "a2b35da5",
   "metadata": {},
   "outputs": [
    {
     "name": "stdout",
     "output_type": "stream",
     "text": [
      "[7]\n"
     ]
    },
    {
     "data": {
      "text/plain": [
       "<matplotlib.image.AxesImage at 0x147a412f190>"
      ]
     },
     "execution_count": 8,
     "metadata": {},
     "output_type": "execute_result"
    },
    {
     "data": {
      "image/png": "[encoded data removed]",
      "text/plain": [
       "<Figure size 432x288 with 1 Axes>"
      ]
     },
     "metadata": {
      "needs_background": "light"
     },
     "output_type": "display_data"
    }
   ],
   "source": [
    "print(np.argmax(model.predict(test_data[[0],:]),axis = -1))\n",
    "plt.imshow(test_images[0,:,:],cmap='gray')"
   ]
  },
  {
   "cell_type": "markdown",
   "id": "c080a2d0",
   "metadata": {},
   "source": [
    "## 1. Change the number of hidden layers and the activation to tanh or elu and report if accuracy changes.\n",
    "\n",
    "### The number of layers used are 4 including 1 input and output layer and 2 hidden layers.\n",
    "\n",
    "### Using relu activation function:\n",
    "313/313 [==============================] - 1s 2ms/step - loss: 0.1335 - accuracy: 0.9841\n",
    "Evaluation result on Test Data : Loss = 0.1335371881723404, accuracy = 0.9840999841690063\n",
    "\n",
    "### Using tanh activation function:\n",
    "313/313 [==============================] - 2s 7ms/step - loss: 2.3109 - accuracy: 0.1008\n",
    "Evaluation result on Test Data : Loss = 2.310920000076294, accuracy = 0.10080000013113022"
   ]
  },
  {
   "cell_type": "markdown",
   "id": "cb5c28e8",
   "metadata": {},
   "source": [
    "### Build the model"
   ]
  },
  {
   "cell_type": "code",
   "execution_count": 9,
   "id": "784a03f2",
   "metadata": {},
   "outputs": [
    {
     "name": "stdout",
     "output_type": "stream",
     "text": [
      "Epoch 1/20\n",
      "235/235 [==============================] - 2s 10ms/step - loss: 0.0043 - accuracy: 0.9988 - val_loss: 0.1620 - val_accuracy: 0.9792\n",
      "Epoch 2/20\n",
      "235/235 [==============================] - 2s 9ms/step - loss: 0.0029 - accuracy: 0.9991 - val_loss: 0.1840 - val_accuracy: 0.9784\n",
      "Epoch 3/20\n",
      "235/235 [==============================] - 2s 9ms/step - loss: 0.0027 - accuracy: 0.9992 - val_loss: 0.1544 - val_accuracy: 0.9821\n",
      "Epoch 4/20\n",
      "235/235 [==============================] - 2s 9ms/step - loss: 0.0029 - accuracy: 0.9992 - val_loss: 0.1405 - val_accuracy: 0.9829\n",
      "Epoch 5/20\n",
      "235/235 [==============================] - 2s 9ms/step - loss: 0.0037 - accuracy: 0.9991 - val_loss: 0.1557 - val_accuracy: 0.9841\n",
      "Epoch 6/20\n",
      "235/235 [==============================] - 2s 10ms/step - loss: 0.0023 - accuracy: 0.9994 - val_loss: 0.1592 - val_accuracy: 0.9847\n",
      "Epoch 7/20\n",
      "235/235 [==============================] - 2s 9ms/step - loss: 0.0033 - accuracy: 0.9993 - val_loss: 0.1480 - val_accuracy: 0.9842\n",
      "Epoch 8/20\n",
      "235/235 [==============================] - 2s 9ms/step - loss: 0.0029 - accuracy: 0.9992 - val_loss: 0.1553 - val_accuracy: 0.9830\n",
      "Epoch 9/20\n",
      "235/235 [==============================] - 2s 10ms/step - loss: 0.0027 - accuracy: 0.9994 - val_loss: 0.1628 - val_accuracy: 0.9819\n",
      "Epoch 10/20\n",
      "235/235 [==============================] - 2s 9ms/step - loss: 0.0030 - accuracy: 0.9994 - val_loss: 0.1788 - val_accuracy: 0.9811\n",
      "Epoch 11/20\n",
      "235/235 [==============================] - 2s 9ms/step - loss: 0.0028 - accuracy: 0.9992 - val_loss: 0.1671 - val_accuracy: 0.9822\n",
      "Epoch 12/20\n",
      "235/235 [==============================] - 2s 9ms/step - loss: 0.0028 - accuracy: 0.9993 - val_loss: 0.1864 - val_accuracy: 0.9818\n",
      "Epoch 13/20\n",
      "235/235 [==============================] - 2s 9ms/step - loss: 0.0017 - accuracy: 0.9995 - val_loss: 0.1867 - val_accuracy: 0.9820\n",
      "Epoch 14/20\n",
      "235/235 [==============================] - 2s 9ms/step - loss: 0.0018 - accuracy: 0.9995 - val_loss: 0.1642 - val_accuracy: 0.9844\n",
      "Epoch 15/20\n",
      "235/235 [==============================] - 2s 9ms/step - loss: 0.0021 - accuracy: 0.9992 - val_loss: 0.1722 - val_accuracy: 0.9840\n",
      "Epoch 16/20\n",
      "235/235 [==============================] - 2s 9ms/step - loss: 0.0017 - accuracy: 0.9994 - val_loss: 0.1835 - val_accuracy: 0.9829\n",
      "Epoch 17/20\n",
      "235/235 [==============================] - 2s 9ms/step - loss: 0.0031 - accuracy: 0.9992 - val_loss: 0.2153 - val_accuracy: 0.9819\n",
      "Epoch 18/20\n",
      "235/235 [==============================] - 2s 9ms/step - loss: 0.0029 - accuracy: 0.9992 - val_loss: 0.1860 - val_accuracy: 0.9830\n",
      "Epoch 19/20\n",
      "235/235 [==============================] - 2s 9ms/step - loss: 0.0018 - accuracy: 0.9996 - val_loss: 0.1860 - val_accuracy: 0.9848\n",
      "Epoch 20/20\n",
      "235/235 [==============================] - 2s 9ms/step - loss: 0.0024 - accuracy: 0.9995 - val_loss: 0.1898 - val_accuracy: 0.9845\n"
     ]
    }
   ],
   "source": [
    "model1 = keras.Sequential()\n",
    "\n",
    "# Input Layer with tahn activation function\n",
    "model1.add(Dense(512, activation='tanh', input_shape=(dimData,)))\n",
    "\n",
    "# Hidden Layer with tahn activation function\n",
    "model1.add(Dense(512, activation='tanh'))  #Hidden Layer I\n",
    "model1.add(Dense(512, activation='tanh'))  #Hidden Layer II\n",
    "\n",
    "# Output Layer with tahn activation function\n",
    "model1.add(Dense(10, activation='softmax'))\n",
    "\n",
    "# Compiling the model with rmsprop optimizer and categorical crossentropy loss function\n",
    "model1.compile(optimizer='rmsprop', loss='categorical_crossentropy', metrics=['accuracy'])\n",
    "\n",
    "# Fitting the data(train/validate model)\n",
    "history1 = model.fit(train_data, train_labels_one_hot, batch_size=256, epochs=20, verbose=1,validation_data=(test_data, test_labels_one_hot))"
   ]
  },
  {
   "cell_type": "markdown",
   "id": "f328ea5d",
   "metadata": {},
   "source": [
    "### Evaluate the model"
   ]
  },
  {
   "cell_type": "code",
   "execution_count": 10,
   "id": "4e2bb1f6",
   "metadata": {},
   "outputs": [
    {
     "name": "stdout",
     "output_type": "stream",
     "text": [
      "313/313 [==============================] - 2s 5ms/step - loss: 2.3231 - accuracy: 0.1467\n",
      "Evaluation result on Test Data : Loss = 2.323124885559082, accuracy = 0.14669999480247498\n"
     ]
    }
   ],
   "source": [
    "# Comparing test data and test labels using evaluate method\n",
    "[test_loss, test_acc] = model1.evaluate(test_data, test_labels_one_hot)\n",
    "\n",
    "# Display the loss and the accuracy\n",
    "print(\"Evaluation result on Test Data : Loss = {}, accuracy = {}\".format(test_loss, test_acc))"
   ]
  },
  {
   "cell_type": "markdown",
   "id": "1695bfdb",
   "metadata": {},
   "source": [
    "### Predict the class\n",
    "#### Jupyter doesn't support predict method so used numpy method to predict the class"
   ]
  },
  {
   "cell_type": "code",
   "execution_count": 11,
   "id": "a58fb04f",
   "metadata": {},
   "outputs": [
    {
     "name": "stdout",
     "output_type": "stream",
     "text": [
      "[4]\n"
     ]
    },
    {
     "data": {
      "text/plain": [
       "<matplotlib.image.AxesImage at 0x147a41b7b20>"
      ]
     },
     "execution_count": 11,
     "metadata": {},
     "output_type": "execute_result"
    },
    {
     "data": {
      "image/png": "[encoded data removed]",
      "text/plain": [
       "<Figure size 432x288 with 1 Axes>"
      ]
     },
     "metadata": {
      "needs_background": "light"
     },
     "output_type": "display_data"
    }
   ],
   "source": [
    "# prediction of class for the first image in the test data\n",
    "print(np.argmax(model1.predict(test_data[[0],:]),axis = -1))\n",
    "\n",
    "# Displaying the first image in the test data\n",
    "plt.imshow(test_images[0,:,:],cmap='gray')"
   ]
  },
  {
   "cell_type": "markdown",
   "id": "f8b6bdb9",
   "metadata": {},
   "source": [
    "## 2. Using the history object in the source code, plot the loss and accuracy for both training data and validation data on the same graph."
   ]
  },
  {
   "cell_type": "code",
   "execution_count": 12,
   "id": "b60d8349",
   "metadata": {},
   "outputs": [
    {
     "data": {
      "image/png": "[encoded data removed]",
      "text/plain": [
       "<Figure size 432x288 with 1 Axes>"
      ]
     },
     "metadata": {
      "needs_background": "light"
     },
     "output_type": "display_data"
    }
   ],
   "source": [
    "# From model fit epoch outputs, get all the values.\n",
    "loss_train = history1.history['loss'] \n",
    "loss_test = history1.history['val_loss']\n",
    "acc_train = history1.history['accuracy']\n",
    "acc_test = history1.history['val_accuracy']\n",
    "\n",
    "# Range of total number of epochs.\n",
    "epochs = range(1,21)\n",
    "\n",
    "# Training loss is labled and the graph is shown in green color.\n",
    "plt.plot(epochs, loss_train, 'g', label='Training loss')\n",
    "\n",
    "# Validation loss is labled and the graph is shown in blue color.\n",
    "plt.plot(epochs, loss_test, 'b', label='validation loss')\n",
    "\n",
    "# Training accuracy is labled and the graph is shown in red color\n",
    "plt.plot(epochs, acc_train, 'r', label='Training Accuracy')\n",
    "\n",
    "# Validation accuracy is labled and the graph is shown in yellow color.\n",
    "plt.plot(epochs, acc_test, 'y', label='validation Accuracy')\n",
    "\n",
    "# Label the graph.\n",
    "# Title.\n",
    "plt.title('Training and Validation loss')\n",
    "\n",
    "# x-axis.\n",
    "plt.xlabel('Epochs')\n",
    "\n",
    "# y-axis.\n",
    "plt.ylabel('Loss')\n",
    "\n",
    "# Show dimensions(describes each line is showing what).\n",
    "plt.legend()\n",
    "\n",
    "# Display the graph.\n",
    "plt.show()"
   ]
  },
  {
   "cell_type": "markdown",
   "id": "8e3aae29",
   "metadata": {},
   "source": [
    "## 3. Run the same code without scaling (normalizing) the images, how does the accuracy change or the model training (stable/unstable, ...)\n",
    "Output:\n",
    "313/313 [==============================] - 1s 3ms/step - loss: 0.5421 - accuracy: 0.9750 Evaluation result on Test Data : Loss = 0.5420658588409424, accuracy = 0.9750000238418579"
   ]
  },
  {
   "cell_type": "code",
   "execution_count": 13,
   "id": "4f37ba3e",
   "metadata": {},
   "outputs": [
    {
     "name": "stdout",
     "output_type": "stream",
     "text": [
      "Epoch 1/20\n",
      "235/235 [==============================] - 2s 9ms/step - loss: 5.7502 - accuracy: 0.8787 - val_loss: 0.6265 - val_accuracy: 0.9356\n",
      "Epoch 2/20\n",
      "235/235 [==============================] - 2s 9ms/step - loss: 0.4322 - accuracy: 0.9463 - val_loss: 0.3896 - val_accuracy: 0.9402\n",
      "Epoch 3/20\n",
      "235/235 [==============================] - 2s 10ms/step - loss: 0.2424 - accuracy: 0.9592 - val_loss: 0.4132 - val_accuracy: 0.9355\n",
      "Epoch 4/20\n",
      "235/235 [==============================] - 2s 10ms/step - loss: 0.1914 - accuracy: 0.9672 - val_loss: 0.2592 - val_accuracy: 0.9567\n",
      "Epoch 5/20\n",
      "235/235 [==============================] - 2s 10ms/step - loss: 0.1672 - accuracy: 0.9709 - val_loss: 0.2827 - val_accuracy: 0.9575\n",
      "Epoch 6/20\n",
      "235/235 [==============================] - 2s 10ms/step - loss: 0.1551 - accuracy: 0.9746 - val_loss: 0.3723 - val_accuracy: 0.9603\n",
      "Epoch 7/20\n",
      "235/235 [==============================] - 2s 10ms/step - loss: 0.1474 - accuracy: 0.9776 - val_loss: 0.3552 - val_accuracy: 0.9657\n",
      "Epoch 8/20\n",
      "235/235 [==============================] - 2s 9ms/step - loss: 0.1487 - accuracy: 0.9801 - val_loss: 0.3454 - val_accuracy: 0.9701\n",
      "Epoch 9/20\n",
      "235/235 [==============================] - 2s 9ms/step - loss: 0.1439 - accuracy: 0.9816 - val_loss: 0.3287 - val_accuracy: 0.9647\n",
      "Epoch 10/20\n",
      "235/235 [==============================] - 2s 10ms/step - loss: 0.1197 - accuracy: 0.9837 - val_loss: 0.4067 - val_accuracy: 0.9585\n",
      "Epoch 11/20\n",
      "235/235 [==============================] - 2s 10ms/step - loss: 0.1144 - accuracy: 0.9845 - val_loss: 0.3618 - val_accuracy: 0.9723\n",
      "Epoch 12/20\n",
      "235/235 [==============================] - 2s 10ms/step - loss: 0.1103 - accuracy: 0.9865 - val_loss: 0.3190 - val_accuracy: 0.9742\n",
      "Epoch 13/20\n",
      "235/235 [==============================] - 2s 9ms/step - loss: 0.1139 - accuracy: 0.9869 - val_loss: 0.5212 - val_accuracy: 0.9730\n",
      "Epoch 14/20\n",
      "235/235 [==============================] - 2s 10ms/step - loss: 0.1038 - accuracy: 0.9884 - val_loss: 0.4925 - val_accuracy: 0.9688\n",
      "Epoch 15/20\n",
      "235/235 [==============================] - 2s 11ms/step - loss: 0.1018 - accuracy: 0.9893 - val_loss: 0.4075 - val_accuracy: 0.9740\n",
      "Epoch 16/20\n",
      "235/235 [==============================] - 2s 10ms/step - loss: 0.0985 - accuracy: 0.9902 - val_loss: 0.5256 - val_accuracy: 0.9755\n",
      "Epoch 17/20\n",
      "235/235 [==============================] - 2s 10ms/step - loss: 0.1004 - accuracy: 0.9914 - val_loss: 0.4926 - val_accuracy: 0.9752\n",
      "Epoch 18/20\n",
      "235/235 [==============================] - 2s 10ms/step - loss: 0.0851 - accuracy: 0.9918 - val_loss: 0.5716 - val_accuracy: 0.9745\n",
      "Epoch 19/20\n",
      "235/235 [==============================] - 2s 10ms/step - loss: 0.0958 - accuracy: 0.9919 - val_loss: 0.6281 - val_accuracy: 0.9788\n",
      "Epoch 20/20\n",
      "235/235 [==============================] - 2s 10ms/step - loss: 0.0927 - accuracy: 0.9921 - val_loss: 0.5494 - val_accuracy: 0.9779\n"
     ]
    }
   ],
   "source": [
    "# convert each image of shape 28*28 to 784 dimensional which will be fed to the network as a single feature\n",
    "dimData = np.prod(train_images.shape[1:])\n",
    "train_data1 = train_images.reshape(train_images.shape[0],dimData)\n",
    "test_data1 = test_images.reshape(test_images.shape[0],dimData)\n",
    "\n",
    "# convert data to float and scale values between 0 and 1\n",
    "train_data1=train_data1.astype('float')\n",
    "test_data1=test_data1.astype('float')\n",
    "\n",
    "# change the labels from integer to one-hot encoding\n",
    "train_labels_one_hot1 = to_categorical(train_labels)\n",
    "test_labels_one_hot1 = to_categorical(test_labels)\n",
    "\n",
    "# creating network\n",
    "model2 = keras.Sequential()\n",
    "model2.add(Dense(512, activation='relu', input_shape=(dimData,)))\n",
    "model2.add(Dense(512, activation='relu'))\n",
    "model2.add(Dense(10, activation='softmax'))\n",
    "model2.compile(optimizer='rmsprop', loss='categorical_crossentropy', metrics=['accuracy'])\n",
    "history1 = model2.fit(train_data1, train_labels_one_hot1, batch_size=256, epochs=20, verbose=1,validation_data=(test_data1, test_labels_one_hot1))"
   ]
  },
  {
   "cell_type": "markdown",
   "id": "13e5bcf4",
   "metadata": {},
   "source": [
    "### Evaluate the model."
   ]
  },
  {
   "cell_type": "code",
   "execution_count": 14,
   "id": "ac0f45da",
   "metadata": {},
   "outputs": [
    {
     "name": "stdout",
     "output_type": "stream",
     "text": [
      "313/313 [==============================] - 2s 5ms/step - loss: 0.5494 - accuracy: 0.9779\n",
      "Evaluation result on Test Data : Loss = 0.5494308471679688, accuracy = 0.9779000282287598\n"
     ]
    }
   ],
   "source": [
    "[test_loss, test_acc] = model2.evaluate(test_data1, test_labels_one_hot1)\n",
    "print(\"Evaluation result on Test Data : Loss = {}, accuracy = {}\".format(test_loss, test_acc))"
   ]
  },
  {
   "cell_type": "markdown",
   "id": "c6365f20",
   "metadata": {},
   "source": [
    "## 4. Convert the sequential model to a functional API model. (Create don’t change the previous model).\n",
    "### Output:\n",
    "313/313 [==============================] - 0s 1ms/step - loss: 9.0777 - accuracy: 0.1610\n",
    "Evaluation result on Test Data : Loss = 9.077709197998047, accuracy = 0.16099999845027924"
   ]
  },
  {
   "cell_type": "code",
   "execution_count": 15,
   "id": "0ed75bc9",
   "metadata": {},
   "outputs": [
    {
     "name": "stdout",
     "output_type": "stream",
     "text": [
      "Epoch 1/20\n",
      "235/235 [==============================] - 1s 4ms/step - loss: 7.9656 - accuracy: 0.1238 - val_loss: 8.7725 - val_accuracy: 0.1014\n",
      "Epoch 2/20\n",
      "235/235 [==============================] - 1s 4ms/step - loss: 8.9449 - accuracy: 0.1159 - val_loss: 9.5741 - val_accuracy: 0.1248\n",
      "Epoch 3/20\n",
      "235/235 [==============================] - 1s 4ms/step - loss: 8.4470 - accuracy: 0.1745 - val_loss: 8.0575 - val_accuracy: 0.2061\n",
      "Epoch 4/20\n",
      "235/235 [==============================] - 1s 4ms/step - loss: 8.0268 - accuracy: 0.2149 - val_loss: 8.0575 - val_accuracy: 0.2061\n",
      "Epoch 5/20\n",
      "235/235 [==============================] - 1s 4ms/step - loss: 8.0268 - accuracy: 0.2149 - val_loss: 8.0575 - val_accuracy: 0.2061\n",
      "Epoch 6/20\n",
      "235/235 [==============================] - 1s 4ms/step - loss: 8.0268 - accuracy: 0.2149 - val_loss: 8.0575 - val_accuracy: 0.2061\n",
      "Epoch 7/20\n",
      "235/235 [==============================] - 1s 4ms/step - loss: 8.0268 - accuracy: 0.2149 - val_loss: 8.0575 - val_accuracy: 0.2061\n",
      "Epoch 8/20\n",
      "235/235 [==============================] - 1s 4ms/step - loss: 8.0268 - accuracy: 0.2149 - val_loss: 8.0575 - val_accuracy: 0.2061\n",
      "Epoch 9/20\n",
      "235/235 [==============================] - 1s 4ms/step - loss: 8.0268 - accuracy: 0.2149 - val_loss: 8.0575 - val_accuracy: 0.2061\n",
      "Epoch 10/20\n",
      "235/235 [==============================] - 1s 4ms/step - loss: 8.0268 - accuracy: 0.2149 - val_loss: 8.0575 - val_accuracy: 0.2061\n",
      "Epoch 11/20\n",
      "235/235 [==============================] - 1s 4ms/step - loss: 8.0268 - accuracy: 0.2149 - val_loss: 8.0575 - val_accuracy: 0.2061\n",
      "Epoch 12/20\n",
      "235/235 [==============================] - 1s 4ms/step - loss: 8.0268 - accuracy: 0.2149 - val_loss: 8.0575 - val_accuracy: 0.2061\n",
      "Epoch 13/20\n",
      "235/235 [==============================] - 1s 4ms/step - loss: 8.0268 - accuracy: 0.2149 - val_loss: 8.0575 - val_accuracy: 0.2061\n",
      "Epoch 14/20\n",
      "235/235 [==============================] - 1s 4ms/step - loss: 8.0268 - accuracy: 0.2149 - val_loss: 8.0575 - val_accuracy: 0.2061\n",
      "Epoch 15/20\n",
      "235/235 [==============================] - 1s 4ms/step - loss: 8.0268 - accuracy: 0.2149 - val_loss: 8.0575 - val_accuracy: 0.2061\n",
      "Epoch 16/20\n",
      "235/235 [==============================] - 1s 4ms/step - loss: 8.0268 - accuracy: 0.2149 - val_loss: 8.0575 - val_accuracy: 0.2061\n",
      "Epoch 17/20\n",
      "235/235 [==============================] - 1s 4ms/step - loss: 8.0268 - accuracy: 0.2149 - val_loss: 8.0575 - val_accuracy: 0.2061\n",
      "Epoch 18/20\n",
      "235/235 [==============================] - 1s 3ms/step - loss: 8.0268 - accuracy: 0.2149 - val_loss: 8.0575 - val_accuracy: 0.2061\n",
      "Epoch 19/20\n",
      "235/235 [==============================] - 1s 4ms/step - loss: 8.0268 - accuracy: 0.2149 - val_loss: 8.0575 - val_accuracy: 0.2061\n",
      "Epoch 20/20\n",
      "235/235 [==============================] - 1s 4ms/step - loss: 8.0268 - accuracy: 0.2149 - val_loss: 8.0575 - val_accuracy: 0.2061\n"
     ]
    }
   ],
   "source": [
    "#Input layer.\n",
    "inputs = keras.Input(shape=(784,))\n",
    "\n",
    "# Add more layers.\n",
    "dense = layers.Dense(64, activation=\"relu\")\n",
    "x = dense(inputs)\n",
    "x = layers.Dense(64, activation=\"relu\")(x)\n",
    "\n",
    "# Output Layer.\n",
    "outputs = layers.Dense(10)(x)\n",
    "\n",
    "# Build model.\n",
    "fnapimodel = keras.Model(inputs=inputs, outputs=outputs, name=\"mnist_model\")\n",
    "fnapimodel.compile(optimizer='rmsprop', loss='categorical_crossentropy', metrics=['accuracy'])\n",
    "fnapihistory = fnapimodel.fit(train_data, train_labels_one_hot, batch_size=256, epochs=20, verbose=1,validation_data=(test_data, test_labels_one_hot))"
   ]
  },
  {
   "cell_type": "code",
   "execution_count": 16,
   "id": "ee1ae68f",
   "metadata": {},
   "outputs": [
    {
     "name": "stdout",
     "output_type": "stream",
     "text": [
      "313/313 [==============================] - 1s 2ms/step - loss: 8.0575 - accuracy: 0.2061\n",
      "Evaluation result on Test Data : Loss = 8.057465553283691, accuracy = 0.2061000019311905\n"
     ]
    }
   ],
   "source": [
    "# Evaluate the model.\n",
    "[test_loss, test_acc] = fnapimodel.evaluate(test_data, test_labels_one_hot)\n",
    "print(\"Evaluation result on Test Data : Loss = {}, accuracy = {}\".format(test_loss, test_acc))"
   ]
  },
  {
   "cell_type": "markdown",
   "id": "092f601e",
   "metadata": {},
   "source": [
    "## 5. Plot one of the images in the test data, and then do inferencing to check what is the prediction of the model on that single image from the test data."
   ]
  },
  {
   "cell_type": "markdown",
   "id": "e7eb0dd4",
   "metadata": {},
   "source": [
    "### Relu activation function prediction inference.\n",
    "Prediction succeeded."
   ]
  },
  {
   "cell_type": "code",
   "execution_count": 17,
   "id": "4b899388",
   "metadata": {},
   "outputs": [
    {
     "name": "stdout",
     "output_type": "stream",
     "text": [
      "Predicted class: [1]\n"
     ]
    },
    {
     "data": {
      "text/plain": [
       "<matplotlib.image.AxesImage at 0x147a4115970>"
      ]
     },
     "execution_count": 17,
     "metadata": {},
     "output_type": "execute_result"
    },
    {
     "data": {
      "image/png": "[encoded data removed]",
      "text/plain": [
       "<Figure size 432x288 with 1 Axes>"
      ]
     },
     "metadata": {
      "needs_background": "light"
     },
     "output_type": "display_data"
    }
   ],
   "source": [
    "print(\"Predicted class:\",np.argmax(model.predict(test_data[[2],:]),axis = -1))\n",
    "plt.imshow(test_images[2,:,:],cmap='gray')"
   ]
  },
  {
   "cell_type": "markdown",
   "id": "de37749a",
   "metadata": {},
   "source": [
    "### Tanh activation function prediction inference.\n",
    "Failed to predict the correct class."
   ]
  },
  {
   "cell_type": "code",
   "execution_count": 18,
   "id": "689ba43f",
   "metadata": {},
   "outputs": [
    {
     "name": "stdout",
     "output_type": "stream",
     "text": [
      "Predicted class: [1]\n"
     ]
    },
    {
     "data": {
      "text/plain": [
       "<matplotlib.image.AxesImage at 0x147a430e9d0>"
      ]
     },
     "execution_count": 18,
     "metadata": {},
     "output_type": "execute_result"
    },
    {
     "data": {
      "image/png": "[encoded data removed]",
      "text/plain": [
       "<Figure size 432x288 with 1 Axes>"
      ]
     },
     "metadata": {
      "needs_background": "light"
     },
     "output_type": "display_data"
    }
   ],
   "source": [
    "print(\"Predicted class:\",np.argmax(model1.predict(test_data[[2],:]),axis = -1))\n",
    "plt.imshow(test_images[2,:,:],cmap='gray')"
   ]
  },
  {
   "cell_type": "markdown",
   "id": "4878a56a",
   "metadata": {},
   "source": [
    "## Bonus point (10%):\n",
    "## 1. Change the loss method to (sparce categorical cross entropy).\n",
    "    a. For this part you need to explain WHY you encountered an error and what you did to overcome this.\n",
    "    Ans: ValueError: `logits` and `labels` must have the same shape, received ((None, 10) vs (None, 1)).\n",
    "    \n",
    "    Sparse Categorical Cross Entropy only works when the target is one Dimension. In this multi-classification problem, we         have one-hot encoded the target variable, and hence  Sparse Categorical Cross Entropy doesn't work.\n",
    "   \n",
    "    Error occured due to the shape of the lables, we should categorize the labels to 10 as we have 10 classes to identify in       the last layer. Hence, code is run without converting the target variable to one-hot encoding, thereby maintaining the         one dimension shape. \n"
   ]
  },
  {
   "cell_type": "code",
   "execution_count": 19,
   "id": "54f06895",
   "metadata": {},
   "outputs": [
    {
     "name": "stdout",
     "output_type": "stream",
     "text": [
      "Epoch 1/20\n",
      "235/235 [==============================] - 3s 10ms/step - loss: 0.0016 - accuracy: 0.9995 - val_loss: 0.0212 - val_accuracy: 0.9842\n",
      "Epoch 2/20\n",
      "235/235 [==============================] - 2s 9ms/step - loss: 5.6335e-04 - accuracy: 0.9998 - val_loss: 0.0226 - val_accuracy: 0.9852\n",
      "Epoch 3/20\n",
      "235/235 [==============================] - 2s 9ms/step - loss: 2.6205e-04 - accuracy: 0.9999 - val_loss: 0.0228 - val_accuracy: 0.9849\n",
      "Epoch 4/20\n",
      "235/235 [==============================] - 2s 9ms/step - loss: 2.5108e-04 - accuracy: 0.9999 - val_loss: 0.0234 - val_accuracy: 0.9853\n",
      "Epoch 5/20\n",
      "235/235 [==============================] - 2s 9ms/step - loss: 1.9008e-04 - accuracy: 0.9999 - val_loss: 0.0245 - val_accuracy: 0.9845\n",
      "Epoch 6/20\n",
      "235/235 [==============================] - 2s 9ms/step - loss: 2.4833e-04 - accuracy: 0.9999 - val_loss: 0.0254 - val_accuracy: 0.9845\n",
      "Epoch 7/20\n",
      "235/235 [==============================] - 3s 11ms/step - loss: 2.1560e-04 - accuracy: 0.9999 - val_loss: 0.0280 - val_accuracy: 0.9840\n",
      "Epoch 8/20\n",
      "235/235 [==============================] - 3s 12ms/step - loss: 2.4573e-04 - accuracy: 0.9998 - val_loss: 0.0280 - val_accuracy: 0.9848\n",
      "Epoch 9/20\n",
      "235/235 [==============================] - 3s 11ms/step - loss: 1.6060e-04 - accuracy: 0.9999 - val_loss: 0.0241 - val_accuracy: 0.9860\n",
      "Epoch 10/20\n",
      "235/235 [==============================] - 3s 11ms/step - loss: 1.2594e-04 - accuracy: 0.9999 - val_loss: 0.0272 - val_accuracy: 0.9849\n",
      "Epoch 11/20\n",
      "235/235 [==============================] - 3s 12ms/step - loss: 1.1897e-04 - accuracy: 1.0000 - val_loss: 0.0273 - val_accuracy: 0.9858\n",
      "Epoch 12/20\n",
      "235/235 [==============================] - 3s 11ms/step - loss: 9.7929e-05 - accuracy: 0.9999 - val_loss: 0.0285 - val_accuracy: 0.9858\n",
      "Epoch 13/20\n",
      "235/235 [==============================] - 3s 11ms/step - loss: 1.5624e-04 - accuracy: 0.9999 - val_loss: 0.0283 - val_accuracy: 0.9850\n",
      "Epoch 14/20\n",
      "235/235 [==============================] - 3s 11ms/step - loss: 1.9102e-04 - accuracy: 0.9998 - val_loss: 0.0284 - val_accuracy: 0.9850\n",
      "Epoch 15/20\n",
      "235/235 [==============================] - 3s 11ms/step - loss: 1.2147e-04 - accuracy: 1.0000 - val_loss: 0.0306 - val_accuracy: 0.9849\n",
      "Epoch 16/20\n",
      "235/235 [==============================] - 3s 11ms/step - loss: 1.2711e-04 - accuracy: 0.9999 - val_loss: 0.0312 - val_accuracy: 0.9860\n",
      "Epoch 17/20\n",
      "235/235 [==============================] - 3s 11ms/step - loss: 1.7425e-04 - accuracy: 0.9999 - val_loss: 0.0315 - val_accuracy: 0.9854\n",
      "Epoch 18/20\n",
      "235/235 [==============================] - 3s 11ms/step - loss: 1.6360e-04 - accuracy: 0.9999 - val_loss: 0.0313 - val_accuracy: 0.9846\n",
      "Epoch 19/20\n",
      "235/235 [==============================] - 3s 11ms/step - loss: 1.0618e-04 - accuracy: 0.9999 - val_loss: 0.0307 - val_accuracy: 0.9863\n",
      "Epoch 20/20\n",
      "235/235 [==============================] - 3s 11ms/step - loss: 1.6674e-04 - accuracy: 0.9999 - val_loss: 0.0327 - val_accuracy: 0.9860\n"
     ]
    }
   ],
   "source": [
    "model.compile(optimizer='rmsprop', loss='binary_crossentropy', metrics=['accuracy'])\n",
    "slhistory = model.fit(train_data, train_labels_one_hot, batch_size=256, epochs=20, verbose=1,validation_data=(test_data, test_labels_one_hot))"
   ]
  },
  {
   "cell_type": "code",
   "execution_count": 20,
   "id": "f8917670",
   "metadata": {},
   "outputs": [
    {
     "name": "stdout",
     "output_type": "stream",
     "text": [
      "313/313 [==============================] - 1s 5ms/step - loss: 0.0327 - accuracy: 0.9860\n",
      "Evaluation result on Test Data : Loss = 0.0326705127954483, accuracy = 0.9860000014305115\n"
     ]
    }
   ],
   "source": [
    "[test_loss, test_acc] = model.evaluate(test_data, test_labels_one_hot)\n",
    "print(\"Evaluation result on Test Data : Loss = {}, accuracy = {}\".format(test_loss, test_acc))"
   ]
  },
  {
   "cell_type": "markdown",
   "id": "931d2936",
   "metadata": {},
   "source": [
    "## 2. Use a method (from NumPy) to print the correct class from the model prediction."
   ]
  },
  {
   "cell_type": "code",
   "execution_count": 21,
   "id": "6a050d3a",
   "metadata": {},
   "outputs": [
    {
     "name": "stdout",
     "output_type": "stream",
     "text": [
      "Predicted class: [1]\n"
     ]
    },
    {
     "data": {
      "text/plain": [
       "<matplotlib.image.AxesImage at 0x147b2827940>"
      ]
     },
     "execution_count": 21,
     "metadata": {},
     "output_type": "execute_result"
    },
    {
     "data": {
      "image/png": "[encoded data removed]",
      "text/plain": [
       "<Figure size 432x288 with 1 Axes>"
      ]
     },
     "metadata": {
      "needs_background": "light"
     },
     "output_type": "display_data"
    }
   ],
   "source": [
    "print(\"Predicted class:\",np.argmax(model.predict(test_data[[2],:]),axis = -1))\n",
    "plt.imshow(test_images[2,:,:],cmap='gray')"
   ]
  },
  {
   "cell_type": "code",
   "execution_count": null,
   "id": "09ca7e85",
   "metadata": {},
   "outputs": [],
   "source": []
  }
 ],
 "metadata": {
  "kernelspec": {
   "display_name": "Python 3 (ipykernel)",
   "language": "python",
   "name": "python3"
  },
  "language_info": {
   "codemirror_mode": {
    "name": "ipython",
    "version": 3
   },
   "file_extension": ".py",
   "mimetype": "text/x-python",
   "name": "python",
   "nbconvert_exporter": "python",
   "pygments_lexer": "ipython3",
   "version": "3.9.7"
  }
 },
 "nbformat": 4,
 "nbformat_minor": 5
}
